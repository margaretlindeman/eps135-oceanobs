{
 "cells": [
  {
   "cell_type": "markdown",
   "id": "7df86387-1fad-4a6b-bc0e-e5322e96c085",
   "metadata": {},
   "source": [
    "## EPS/ESE 135: Observing the Ocean\n",
    "### Data Analysis Assignment 2: The Equation of State"
   ]
  },
  {
   "cell_type": "markdown",
   "id": "d199e92e-0e10-45a3-817d-90f4fde6ef11",
   "metadata": {},
   "source": [
    "Now it's your turn to apply the methods from the intro notebook you worked through to a new dataset. This is a CTD profile from the Irminger Sea.\n",
    "\n",
    "The data are saved in `irminger_raw.csv`. Please open the metadata file `irminger_meta.txt` to find out where and when these data were measured, as well as the units for the variables in the data file."
   ]
  },
  {
   "cell_type": "markdown",
   "id": "6d55cb37-e849-4e37-9d55-a988d1df15ea",
   "metadata": {},
   "source": [
    "Plots to make for this assignment:\n",
    "1. 3 profiles as subplots: in situ temperature, conductivity, practical salinity. (We didn't do this before so I've given you the steps here. For this plot, use pressure as the independent variable on the y-axis.)\n",
    "2. Profile of pressure minus depth. (For the remaining profile plots, use depth as the independent variable on the y-axis.)\n",
    "3. Profiles of practical and absolute salinity (on same plot)\n",
    "4. Profiles of in situ and potential temperature (on same plot)\n",
    "5. Profiles of in situ and potential density (on same plot)\n",
    "6. 3 profiles as subplots: conservative temperature, absolute salinity, potential density anomaly\n",
    "7. Temperature-salinity plot with the data plotted over background density contours"
   ]
  },
  {
   "cell_type": "markdown",
   "id": "4ecc1c66-32e3-4ac7-a37c-4d1ffcbfe66d",
   "metadata": {},
   "source": [
    "For each variable that I've asked you to plot, you will need to do the necessary conversions using the gsw functions, add it to your dataframe, and then create the plot, adding appropriate labels etc. Please also include the plot numbers (as numbered in this list) in the title of each plot."
   ]
  },
  {
   "cell_type": "markdown",
   "id": "7398dde1-4263-4b18-818e-17e1d9c33725",
   "metadata": {},
   "source": [
    "Then add a markdown cell after each plot with a brief description of what the plot shows and how it compares to the corresponding CTD profile from southeast Greenland that we plotted in the intro notebook."
   ]
  },
  {
   "cell_type": "code",
   "execution_count": 1,
   "id": "fc416aa8-1a9c-4720-93ad-a1c279abb6b6",
   "metadata": {},
   "outputs": [],
   "source": [
    "# import python libraries to be used in this assignment\n",
    "import pandas as pd\n",
    "import matplotlib.pyplot as plt\n",
    "\n",
    "import gsw\n",
    "from ts_plot import ts_plot\n",
    "\n",
    "# if you get an error from running this cell:\n",
    "# 1. double check that you are using the eps135 python environment!\n",
    "# 2. make sure ts_plot.py is saved in the folder where you are running this notebook."
   ]
  },
  {
   "cell_type": "markdown",
   "id": "e2b49bcc-3e07-4f89-b8fa-11bf423536ef",
   "metadata": {},
   "source": [
    "I'll get you started...this time I've named the dataframe `data`."
   ]
  },
  {
   "cell_type": "code",
   "execution_count": 3,
   "id": "69a9e7fa-1f2a-4563-b64f-7e4a49728788",
   "metadata": {},
   "outputs": [
    {
     "data": {
      "text/html": [
       "<div>\n",
       "<style scoped>\n",
       "    .dataframe tbody tr th:only-of-type {\n",
       "        vertical-align: middle;\n",
       "    }\n",
       "\n",
       "    .dataframe tbody tr th {\n",
       "        vertical-align: top;\n",
       "    }\n",
       "\n",
       "    .dataframe thead th {\n",
       "        text-align: right;\n",
       "    }\n",
       "</style>\n",
       "<table border=\"1\" class=\"dataframe\">\n",
       "  <thead>\n",
       "    <tr style=\"text-align: right;\">\n",
       "      <th></th>\n",
       "      <th>pres</th>\n",
       "      <th>cond</th>\n",
       "      <th>temp</th>\n",
       "    </tr>\n",
       "  </thead>\n",
       "  <tbody>\n",
       "    <tr>\n",
       "      <th>0</th>\n",
       "      <td>0</td>\n",
       "      <td>36.527598</td>\n",
       "      <td>8.621336</td>\n",
       "    </tr>\n",
       "    <tr>\n",
       "      <th>1</th>\n",
       "      <td>2</td>\n",
       "      <td>36.527598</td>\n",
       "      <td>8.621336</td>\n",
       "    </tr>\n",
       "    <tr>\n",
       "      <th>2</th>\n",
       "      <td>4</td>\n",
       "      <td>36.528432</td>\n",
       "      <td>8.621316</td>\n",
       "    </tr>\n",
       "    <tr>\n",
       "      <th>3</th>\n",
       "      <td>6</td>\n",
       "      <td>36.526670</td>\n",
       "      <td>8.618404</td>\n",
       "    </tr>\n",
       "    <tr>\n",
       "      <th>4</th>\n",
       "      <td>8</td>\n",
       "      <td>36.526438</td>\n",
       "      <td>8.617014</td>\n",
       "    </tr>\n",
       "    <tr>\n",
       "      <th>...</th>\n",
       "      <td>...</td>\n",
       "      <td>...</td>\n",
       "      <td>...</td>\n",
       "    </tr>\n",
       "    <tr>\n",
       "      <th>1560</th>\n",
       "      <td>3120</td>\n",
       "      <td>31.866244</td>\n",
       "      <td>1.863757</td>\n",
       "    </tr>\n",
       "    <tr>\n",
       "      <th>1561</th>\n",
       "      <td>3122</td>\n",
       "      <td>31.863821</td>\n",
       "      <td>1.860139</td>\n",
       "    </tr>\n",
       "    <tr>\n",
       "      <th>1562</th>\n",
       "      <td>3124</td>\n",
       "      <td>31.864271</td>\n",
       "      <td>1.860058</td>\n",
       "    </tr>\n",
       "    <tr>\n",
       "      <th>1563</th>\n",
       "      <td>3126</td>\n",
       "      <td>31.865038</td>\n",
       "      <td>1.860020</td>\n",
       "    </tr>\n",
       "    <tr>\n",
       "      <th>1564</th>\n",
       "      <td>3128</td>\n",
       "      <td>31.865967</td>\n",
       "      <td>1.860689</td>\n",
       "    </tr>\n",
       "  </tbody>\n",
       "</table>\n",
       "<p>1565 rows × 3 columns</p>\n",
       "</div>"
      ],
      "text/plain": [
       "      pres       cond      temp\n",
       "0        0  36.527598  8.621336\n",
       "1        2  36.527598  8.621336\n",
       "2        4  36.528432  8.621316\n",
       "3        6  36.526670  8.618404\n",
       "4        8  36.526438  8.617014\n",
       "...    ...        ...       ...\n",
       "1560  3120  31.866244  1.863757\n",
       "1561  3122  31.863821  1.860139\n",
       "1562  3124  31.864271  1.860058\n",
       "1563  3126  31.865038  1.860020\n",
       "1564  3128  31.865967  1.860689\n",
       "\n",
       "[1565 rows x 3 columns]"
      ]
     },
     "execution_count": 3,
     "metadata": {},
     "output_type": "execute_result"
    }
   ],
   "source": [
    "# load CTD data and display pandas dataframe\n",
    "data = pd.read_csv('irminger_raw.csv')\n",
    "data"
   ]
  },
  {
   "cell_type": "markdown",
   "id": "78f6de3f-3443-44d8-a004-3af7d245af8b",
   "metadata": {},
   "source": [
    "We need to calculate the practical salinity from the provided variables: conductivity, temperature and pressure. The [gsw toolbox](https://teos-10.github.io/GSW-Python/conversions.html) has a function for this: `gsw.conversions.SP_from_C(C, t, p)`."
   ]
  },
  {
   "cell_type": "code",
   "execution_count": 6,
   "id": "800d2caf-8b29-4910-8d96-755f955a275c",
   "metadata": {},
   "outputs": [
    {
     "data": {
      "text/html": [
       "<div>\n",
       "<style scoped>\n",
       "    .dataframe tbody tr th:only-of-type {\n",
       "        vertical-align: middle;\n",
       "    }\n",
       "\n",
       "    .dataframe tbody tr th {\n",
       "        vertical-align: top;\n",
       "    }\n",
       "\n",
       "    .dataframe thead th {\n",
       "        text-align: right;\n",
       "    }\n",
       "</style>\n",
       "<table border=\"1\" class=\"dataframe\">\n",
       "  <thead>\n",
       "    <tr style=\"text-align: right;\">\n",
       "      <th></th>\n",
       "      <th>pres</th>\n",
       "      <th>cond</th>\n",
       "      <th>temp</th>\n",
       "      <th>sal</th>\n",
       "    </tr>\n",
       "  </thead>\n",
       "  <tbody>\n",
       "    <tr>\n",
       "      <th>0</th>\n",
       "      <td>0</td>\n",
       "      <td>36.527598</td>\n",
       "      <td>8.621336</td>\n",
       "      <td>34.720424</td>\n",
       "    </tr>\n",
       "    <tr>\n",
       "      <th>1</th>\n",
       "      <td>2</td>\n",
       "      <td>36.527598</td>\n",
       "      <td>8.621336</td>\n",
       "      <td>34.719463</td>\n",
       "    </tr>\n",
       "    <tr>\n",
       "      <th>2</th>\n",
       "      <td>4</td>\n",
       "      <td>36.528432</td>\n",
       "      <td>8.621316</td>\n",
       "      <td>34.719404</td>\n",
       "    </tr>\n",
       "    <tr>\n",
       "      <th>3</th>\n",
       "      <td>6</td>\n",
       "      <td>36.526670</td>\n",
       "      <td>8.618404</td>\n",
       "      <td>34.719442</td>\n",
       "    </tr>\n",
       "    <tr>\n",
       "      <th>4</th>\n",
       "      <td>8</td>\n",
       "      <td>36.526438</td>\n",
       "      <td>8.617014</td>\n",
       "      <td>34.719603</td>\n",
       "    </tr>\n",
       "    <tr>\n",
       "      <th>...</th>\n",
       "      <td>...</td>\n",
       "      <td>...</td>\n",
       "      <td>...</td>\n",
       "      <td>...</td>\n",
       "    </tr>\n",
       "    <tr>\n",
       "      <th>1560</th>\n",
       "      <td>3120</td>\n",
       "      <td>31.866244</td>\n",
       "      <td>1.863757</td>\n",
       "      <td>34.883889</td>\n",
       "    </tr>\n",
       "    <tr>\n",
       "      <th>1561</th>\n",
       "      <td>3122</td>\n",
       "      <td>31.863821</td>\n",
       "      <td>1.860139</td>\n",
       "      <td>34.883882</td>\n",
       "    </tr>\n",
       "    <tr>\n",
       "      <th>1562</th>\n",
       "      <td>3124</td>\n",
       "      <td>31.864271</td>\n",
       "      <td>1.860058</td>\n",
       "      <td>34.883611</td>\n",
       "    </tr>\n",
       "    <tr>\n",
       "      <th>1563</th>\n",
       "      <td>3126</td>\n",
       "      <td>31.865038</td>\n",
       "      <td>1.860020</td>\n",
       "      <td>34.883682</td>\n",
       "    </tr>\n",
       "    <tr>\n",
       "      <th>1564</th>\n",
       "      <td>3128</td>\n",
       "      <td>31.865967</td>\n",
       "      <td>1.860689</td>\n",
       "      <td>34.883196</td>\n",
       "    </tr>\n",
       "  </tbody>\n",
       "</table>\n",
       "<p>1565 rows × 4 columns</p>\n",
       "</div>"
      ],
      "text/plain": [
       "      pres       cond      temp        sal\n",
       "0        0  36.527598  8.621336  34.720424\n",
       "1        2  36.527598  8.621336  34.719463\n",
       "2        4  36.528432  8.621316  34.719404\n",
       "3        6  36.526670  8.618404  34.719442\n",
       "4        8  36.526438  8.617014  34.719603\n",
       "...    ...        ...       ...        ...\n",
       "1560  3120  31.866244  1.863757  34.883889\n",
       "1561  3122  31.863821  1.860139  34.883882\n",
       "1562  3124  31.864271  1.860058  34.883611\n",
       "1563  3126  31.865038  1.860020  34.883682\n",
       "1564  3128  31.865967  1.860689  34.883196\n",
       "\n",
       "[1565 rows x 4 columns]"
      ]
     },
     "execution_count": 6,
     "metadata": {},
     "output_type": "execute_result"
    }
   ],
   "source": [
    "# convert cond to sal and save to dataframe:\n",
    "data['sal'] = gsw.SP_from_C(data.cond,data.temp,data.pres)\n",
    "data"
   ]
  },
  {
   "cell_type": "code",
   "execution_count": 37,
   "id": "d3ff16f3-b85b-44df-a456-4ffc1a20e561",
   "metadata": {},
   "outputs": [
    {
     "data": {
      "text/plain": [
       "Text(0.5, 1.0, 'Plot 1: CTD profile from Irminger Sea, August 2022')"
      ]
     },
     "execution_count": 37,
     "metadata": {},
     "output_type": "execute_result"
    },
    {
     "data": {
      "image/png": "[encoded data removed]",
      "text/plain": [
       "<Figure size 1100x500 with 3 Axes>"
      ]
     },
     "metadata": {},
     "output_type": "display_data"
    }
   ],
   "source": [
    "# create fig and ax objects using plt.subplots(_____) command:\n",
    "# create 1 row of 3 subplots using syntax plt.subplots(rows,cols, ...)\n",
    "# second argument figsize=(length,height)\n",
    "fig,ax = plt.subplots(1,3, figsize=(11,5)) \n",
    "\n",
    "#now modify each subplot with ax[0], ax[1], ax[2]...\n",
    "\n",
    "# plot temperature profile on left\n",
    "ax[0].plot(data.temp, data.pres)\n",
    "ax[0].set_ylim(3200,-5)\n",
    "ax[0].set_xlabel(r'in situ temperature [degC]')\n",
    "ax[0].set_ylabel(r'pressure [dbar]')\n",
    "\n",
    "# plot conductivity profile in middle\n",
    "ax[1].plot(data.cond, data.pres)\n",
    "ax[1].set_ylim(3200, -5)\n",
    "ax[1].set_xlabel(r'conductivity [mS/cm]')\n",
    "\n",
    "# plot salinity profile on right\n",
    "ax[2].plot(data.sal, data.pres)\n",
    "ax[2].set_ylim(3200, -5)\n",
    "ax[2].set_xlabel(r'salinity [psu]')\n",
    "\n",
    "# add title to middle subplot\n",
    "ax[1].set_title(r'Plot 1: CTD profile from Irminger Sea, August 2022')"
   ]
  },
  {
   "cell_type": "markdown",
   "id": "d08c64e9-2e7b-4d7f-aacd-1cb8c4af310c",
   "metadata": {},
   "source": [
    "[Start here by briefly describing the profiles in each of these three subplots and how they're related to one another.]"
   ]
  },
  {
   "cell_type": "markdown",
   "id": "c161edc3-1f5d-4895-83c5-f6f2243056ad",
   "metadata": {},
   "source": [
    "### Plot 2"
   ]
  },
  {
   "cell_type": "code",
   "execution_count": null,
   "id": "2eccd127-76d6-45ed-81d6-29827a56ad6f",
   "metadata": {},
   "outputs": [],
   "source": [
    "# code for plot 2 here\n",
    "# remember to add comments throughout your code"
   ]
  },
  {
   "cell_type": "markdown",
   "id": "d46aa414-62aa-465d-831b-553db52ce722",
   "metadata": {},
   "source": [
    "[description/discussion for plot 2 here]"
   ]
  },
  {
   "cell_type": "markdown",
   "id": "b517c0db-b81d-463e-83f1-313df5f1e5ef",
   "metadata": {},
   "source": [
    "### Plot 3"
   ]
  },
  {
   "cell_type": "code",
   "execution_count": null,
   "id": "b9c4bf6f-59a1-4e35-ae6e-367787ca3484",
   "metadata": {},
   "outputs": [],
   "source": [
    "# etc."
   ]
  }
 ],
 "metadata": {
  "kernelspec": {
   "display_name": "Python [conda env:eps135]",
   "language": "python",
   "name": "conda-env-eps135-py"
  },
  "language_info": {
   "codemirror_mode": {
    "name": "ipython",
    "version": 3
   },
   "file_extension": ".py",
   "mimetype": "text/x-python",
   "name": "python",
   "nbconvert_exporter": "python",
   "pygments_lexer": "ipython3",
   "version": "3.13.7"
  }
 },
 "nbformat": 4,
 "nbformat_minor": 5
}
