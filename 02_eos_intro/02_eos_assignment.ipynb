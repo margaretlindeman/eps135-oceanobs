{
 "cells": [
  {
   "cell_type": "markdown",
   "id": "7df86387-1fad-4a6b-bc0e-e5322e96c085",
   "metadata": {},
   "source": [
    "## EPS/ESE 135: Observing the Ocean\n",
    "### Data Analysis Assignment 2: The Equation of State"
   ]
  },
  {
   "cell_type": "markdown",
   "id": "d199e92e-0e10-45a3-817d-90f4fde6ef11",
   "metadata": {},
   "source": [
    "Now it's your turn to apply the methods from the intro notebook you worked through to a new dataset. This is a CTD profile from the Irminger Sea.\n",
    "\n",
    "The data are saved in `irminger_raw.csv`. Please open the metadata file `irminger_meta.txt` to find out where and when these data were measured, as well as the units for the variables in the data file."
   ]
  },
  {
   "cell_type": "markdown",
   "id": "6d55cb37-e849-4e37-9d55-a988d1df15ea",
   "metadata": {},
   "source": [
    "Plots to make for this assignment:\n",
    "1. 3 profiles as subplots: in situ temperature, conductivity, practical salinity. (We didn't do this before so I've given you the steps here. For this plot, use pressure as the independent variable on the y-axis.)\n",
    "2. Profile of pressure minus depth. (For the remaining profile plots, use depth as the independent variable on the y-axis.)\n",
    "3. Profiles of practical and absolute salinity (on same plot)\n",
    "4. Profiles of in situ and potential temperature (on same plot)\n",
    "5. Profiles of in situ and potential density (on same plot)\n",
    "6. 3 profiles as subplots: conservative temperature, absolute salinity, potential density anomaly\n",
    "7. Temperature-salinity plot with the data plotted over background density contours"
   ]
  },
  {
   "cell_type": "markdown",
   "id": "4ecc1c66-32e3-4ac7-a37c-4d1ffcbfe66d",
   "metadata": {},
   "source": [
    "For each variable that I've asked you to plot, you will need to do the necessary conversions using the gsw functions, add it to your dataframe, and then create the plot, adding appropriate labels etc. Please also include the plot numbers (as numbered in this list) in the title of each plot."
   ]
  },
  {
   "cell_type": "markdown",
   "id": "7398dde1-4263-4b18-818e-17e1d9c33725",
   "metadata": {},
   "source": [
    "Then add a markdown cell after each plot with a brief description of what the plot shows and how it compares to the corresponding CTD profile from southeast Greenland that we plotted in the intro notebook."
   ]
  },
  {
   "cell_type": "code",
   "execution_count": null,
   "id": "fc416aa8-1a9c-4720-93ad-a1c279abb6b6",
   "metadata": {},
   "outputs": [],
   "source": [
    "# import python libraries to be used in this assignment\n",
    "import pandas as pd\n",
    "import matplotlib.pyplot as plt\n",
    "\n",
    "import gsw\n",
    "from ts_plot import ts_plot\n",
    "\n",
    "# if you get an error from running this cell:\n",
    "# 1. double check that you are using the eps135 python environment!\n",
    "# 2. make sure ts_plot.py is saved in the folder where you are running this notebook."
   ]
  },
  {
   "cell_type": "markdown",
   "id": "e2b49bcc-3e07-4f89-b8fa-11bf423536ef",
   "metadata": {},
   "source": [
    "I'll get you started...this time I've named the dataframe `data`."
   ]
  },
  {
   "cell_type": "code",
   "execution_count": null,
   "id": "69a9e7fa-1f2a-4563-b64f-7e4a49728788",
   "metadata": {},
   "outputs": [],
   "source": [
    "# load CTD data and display pandas dataframe\n",
    "data = pd.read_csv('irminger_raw.csv')\n",
    "data"
   ]
  },
  {
   "cell_type": "markdown",
   "id": "78f6de3f-3443-44d8-a004-3af7d245af8b",
   "metadata": {},
   "source": [
    "We need to calculate the practical salinity from the provided variables: conductivity, temperature and pressure. The [gsw toolbox](https://teos-10.github.io/GSW-Python/conversions.html) has a function for this: `gsw.conversions.SP_from_C(C, t, p)`."
   ]
  },
  {
   "cell_type": "code",
   "execution_count": null,
   "id": "800d2caf-8b29-4910-8d96-755f955a275c",
   "metadata": {},
   "outputs": [],
   "source": [
    "# convert cond to sal and save to dataframe:\n",
    "data['sal'] = gsw.SP_from_C(data.cond,data.temp,data.pres)\n",
    "data"
   ]
  },
  {
   "cell_type": "code",
   "execution_count": null,
   "id": "d3ff16f3-b85b-44df-a456-4ffc1a20e561",
   "metadata": {},
   "outputs": [],
   "source": [
    "# create fig and ax objects using plt.subplots(_____) command:\n",
    "# create 1 row of 3 subplots using syntax plt.subplots(rows,cols, ...)\n",
    "# second argument figsize=(length,height)\n",
    "fig,ax = plt.subplots(1,3, figsize=(11,5)) \n",
    "\n",
    "#now modify each subplot with ax[0], ax[1], ax[2]...\n",
    "\n",
    "# plot temperature profile on left\n",
    "ax[0].plot(data.temp, data.pres)\n",
    "ax[0].set_ylim(3200,-5)\n",
    "ax[0].set_xlabel(r'in situ temperature [degC]')\n",
    "ax[0].set_ylabel(r'pressure [dbar]')\n",
    "\n",
    "# plot conductivity profile in middle\n",
    "ax[1].plot(data.cond, data.pres)\n",
    "ax[1].set_ylim(3200, -5)\n",
    "ax[1].set_xlabel(r'conductivity [mS/cm]')\n",
    "\n",
    "# plot salinity profile on right\n",
    "ax[2].plot(data.sal, data.pres)\n",
    "ax[2].set_ylim(3200, -5)\n",
    "ax[2].set_xlabel(r'salinity [psu]')\n",
    "\n",
    "# add title to middle subplot\n",
    "ax[1].set_title(r'Plot 1: CTD profile from Irminger Sea, August 2022')"
   ]
  },
  {
   "cell_type": "markdown",
   "id": "d08c64e9-2e7b-4d7f-aacd-1cb8c4af310c",
   "metadata": {},
   "source": [
    "[Start here by briefly describing the profiles in each of these three subplots and how they're related to one another.]"
   ]
  },
  {
   "cell_type": "markdown",
   "id": "c161edc3-1f5d-4895-83c5-f6f2243056ad",
   "metadata": {},
   "source": [
    "### Plot 2"
   ]
  },
  {
   "cell_type": "code",
   "execution_count": null,
   "id": "2eccd127-76d6-45ed-81d6-29827a56ad6f",
   "metadata": {},
   "outputs": [],
   "source": [
    "# code for plot 2 here\n",
    "# remember to add comments throughout your code"
   ]
  },
  {
   "cell_type": "markdown",
   "id": "d46aa414-62aa-465d-831b-553db52ce722",
   "metadata": {},
   "source": [
    "[description/discussion for plot 2 here. We also made an analogous plot for the southeast Greenland data so include any notable similarities or differences in your discussion.]"
   ]
  },
  {
   "cell_type": "markdown",
   "id": "b517c0db-b81d-463e-83f1-313df5f1e5ef",
   "metadata": {},
   "source": [
    "### Plot 3"
   ]
  },
  {
   "cell_type": "code",
   "execution_count": null,
   "id": "b9c4bf6f-59a1-4e35-ae6e-367787ca3484",
   "metadata": {},
   "outputs": [],
   "source": [
    "# etc."
   ]
  }
 ],
 "metadata": {
  "kernelspec": {
   "display_name": "Python [conda env:eps135]",
   "language": "python",
   "name": "conda-env-eps135-py"
  },
  "language_info": {
   "codemirror_mode": {
    "name": "ipython",
    "version": 3
   },
   "file_extension": ".py",
   "mimetype": "text/x-python",
   "name": "python",
   "nbconvert_exporter": "python",
   "pygments_lexer": "ipython3",
   "version": "3.13.7"
  }
 },
 "nbformat": 4,
 "nbformat_minor": 5
}
