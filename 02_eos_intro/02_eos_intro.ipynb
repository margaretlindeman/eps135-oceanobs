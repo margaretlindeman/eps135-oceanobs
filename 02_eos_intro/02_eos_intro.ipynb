{
 "cells": [
  {
   "cell_type": "markdown",
   "id": "229400e8-e130-4ea3-bf12-4ca80e0e5089",
   "metadata": {},
   "source": [
    "## EPS/ESE 135: Observing the Ocean\n",
    "### Data Analysis Assignment 2 (Intro): The Equation of State"
   ]
  },
  {
   "cell_type": "markdown",
   "id": "af3562e6-4960-4d79-8240-b6cab6e45f88",
   "metadata": {},
   "source": [
    "In class this week you will learn about the equation of state. This is a thermodynamic equation that relates the density of ocean water to temperature, salinity, and pressure.\n",
    "\n",
    "At the simplest level, the density of seawater increases with salinity and decreases with temperature. It is possible to approximate this as a linear function, e.g. $\\rho(T,S) = \\beta S - \\alpha T$, where $\\rho$ is density, $S$ is salinity, $T$ is temperature, and $\\beta$ and $\\alpha$ are coefficients.\n",
    "\n",
    "However, in reality, the equation of state of seawater is nonlinear and also depends on pressure. Oceanographers widely use a collection of functions called the [Gibbs-SeaWater (GSW) Oceanographic Toolbox](https://www.teos-10.org/software.htm) to standardize conversions between the variables that our instruments can measure (e.g. in situ temperature, conductivity, and pressure) to derived quantities like potential temperature, salinity, and density that we use in our analyses.\n",
    "\n",
    "The documentation for the python implementation of the GSW toolbox is [here](https://teos-10.github.io/GSW-Python/). (The Matlab version of GSW has more functions and [more-detailed documentation](https://www.teos-10.org/pubs/gsw/html/gsw_contents.html).)"
   ]
  },
  {
   "cell_type": "code",
   "execution_count": null,
   "id": "d5d01a66-2127-4c94-85ea-dff0ffb79e68",
   "metadata": {},
   "outputs": [],
   "source": [
    "# import python libraries to be used in this assignment\n",
    "import pandas as pd\n",
    "import matplotlib.pyplot as plt\n",
    "\n",
    "import gsw\n",
    "from ts_plot import ts_plot\n",
    "\n",
    "# if you get an error from running this cell:\n",
    "# 1. double check that you are using the eps135 python environment!\n",
    "# 2. make sure ts_plot.py is saved in the folder where you are running this notebook."
   ]
  },
  {
   "cell_type": "markdown",
   "id": "bdcad0dc-0d73-4042-9d40-ab655d01eb2f",
   "metadata": {},
   "source": [
    "For this assignment, I will walk you through some of the most commonly used GSW functions using the same CTD (Conductivity-Temperature-Depth) profile from southeast Greenland that you plotted in the last assignment. Then you will do the same using a different profile."
   ]
  },
  {
   "cell_type": "code",
   "execution_count": null,
   "id": "bfddc30c-68c7-43eb-8539-7c13dc019e4b",
   "metadata": {},
   "outputs": [],
   "source": [
    "# load CTD data and display pandas dataframe\n",
    "ctd = pd.read_csv('ctd_raw.csv')\n",
    "ctd"
   ]
  },
  {
   "cell_type": "markdown",
   "id": "19e84ba8-b63d-402b-8d34-ad88f771cbee",
   "metadata": {},
   "source": [
    "The variables we are starting with are pressure [dbar], temperature [deg C], and salinity [psu]. Pressure and (in situ) temperature are quantities that are measured by the CTD sensors. Salinity is derived from conductivity and temperature, but many oceanographic instruments come with processing software that will output a practical salinity variable.\n",
    "\n",
    "The derived quantities we will compute are:\n",
    "* $z$, depth [m]\n",
    "* $\\theta$, potential temperature [deg C]\n",
    "* CT, Conservative Temperature [deg C]\n",
    "* SA, Absolute Salinity [g/kg]\n",
    "* $\\rho$, in situ density [kg/m3]\n",
    "* $\\sigma_0$, potential density anomaly [kg/m3]"
   ]
  },
  {
   "cell_type": "markdown",
   "id": "469480b2-1a03-451c-a204-03ef35ef846c",
   "metadata": {},
   "source": [
    "Click on [Documentation for GSW conversion functions](https://teos-10.github.io/GSW-Python/conversions.html). This page includes the documentation for the first 4 calculations. Each function has a name in the form `gsw.x_from_y`, where `x` is the quantity we want to compute and `y` is what we (hopefully) have.\n",
    "\n",
    "Scroll to the very bottom to see the documentation for `gsw.conversions.z_from_p`. This is a function that will calculate `z`, depth, from `p`, pressure.\n",
    "\n",
    "The syntax for this function is `gsw.z_from_p(pressure,latitude)`. (The other inputs are optional.) The documentation tells you that the input parameters are pressure (p) in dbar and latitude (lat) in degrees."
   ]
  },
  {
   "cell_type": "code",
   "execution_count": null,
   "id": "d54ccebc-0cb6-4e70-b9bf-9565bc9ab661",
   "metadata": {},
   "outputs": [],
   "source": [
    "# The latitude and longitude for this profile are saved in the text file ctd_meta.txt.\n",
    "# I am saving them as variables because I'll need them a few times.\n",
    "ctd_lat = 65.5\n",
    "ctd_lon = -38.3"
   ]
  },
  {
   "cell_type": "markdown",
   "id": "36bec5a0-b906-4b45-a572-88d20f35630e",
   "metadata": {},
   "source": [
    "### Converting pressure to depth"
   ]
  },
  {
   "cell_type": "code",
   "execution_count": null,
   "id": "fb7b5ccc-5cf1-4610-892e-e14b575500e9",
   "metadata": {},
   "outputs": [],
   "source": [
    "# Now I have the inputs I need to calculate the depth variable for this profile.\n",
    "gsw.z_from_p(ctd.pres,ctd_lat)"
   ]
  },
  {
   "cell_type": "markdown",
   "id": "5fd06fee-4a62-4d3f-849d-be2266620f62",
   "metadata": {},
   "source": [
    "The values of `z` look quite similar to the values of `pres` but they are negative. This is because GSW defines `z` as height above sea-level. I prefer to use positive values of depth in meters so I will multiply this variable by -1 and add it to my dataframe."
   ]
  },
  {
   "cell_type": "code",
   "execution_count": null,
   "id": "8d7fd865-216e-4210-864c-edb17e1b75da",
   "metadata": {},
   "outputs": [],
   "source": [
    "# By putting ctd['dep'] on the left of the equals sign I am adding the output to the dataframe 'ctd'\n",
    "ctd['dep'] = gsw.z_from_p(ctd.pres,ctd_lat)*-1\n",
    "\n",
    "# Display a summary of 'ctd' to confirm that this has been added and the values make sense.\n",
    "ctd"
   ]
  },
  {
   "cell_type": "markdown",
   "id": "15ccdaaf-76ce-4437-b6d1-6a6428f0f4be",
   "metadata": {},
   "source": [
    "You might notice that the values of pressure [dbar] and depth [m] are more similar near the top (surface) than near the bottom. Let's make a plot to visualize this relationship."
   ]
  },
  {
   "cell_type": "code",
   "execution_count": null,
   "id": "bb5fb500-b208-47d6-8008-c64a20d57f9f",
   "metadata": {},
   "outputs": [],
   "source": [
    "# calculate the difference between pressure and depth at each point in the profile\n",
    "# save this as variable delta_p\n",
    "delta_p = ctd.pres-ctd.dep\n",
    "\n",
    "# plot delta_p (x-axis) versus depth (y-axis)\n",
    "plt.plot(delta_p, ctd.dep)\n",
    "\n",
    "# flip y-axis so that surface is at top\n",
    "plt.ylim(500,-5)\n",
    "\n",
    "# add grid lines\n",
    "plt.grid()\n",
    "\n",
    "# add axis labels\n",
    "plt.xlabel('pressure-depth')\n",
    "plt.ylabel('depth [m]')\n",
    "plt.title('Difference between pressure and depth over profile')"
   ]
  },
  {
   "cell_type": "markdown",
   "id": "999de875-fd8c-40e1-bc71-21b8e8caf950",
   "metadata": {},
   "source": [
    "The plot shows that the offset continues to increase with depth. From 0 to 100 m, the offset increases from approx. 0.01 to 1, and from 100 to 200 m it increases from 1 to 2.1. At the bottom (467 m) the offset is about 5.2. The grid lines help to visualize that this is not a linear change with depth."
   ]
  },
  {
   "cell_type": "markdown",
   "id": "44f6a40d-1727-4dd4-b4ac-5b19be22041d",
   "metadata": {},
   "source": [
    "### Calculating Absolute Salinity"
   ]
  },
  {
   "cell_type": "markdown",
   "id": "4f07d75b-b029-438b-87ad-ec774e5f86ed",
   "metadata": {},
   "source": [
    "Most of the GSW conversions require you to first calculate the \"Absolute Salinity.\" The salinity variable we are given in this data file is **practical salinity**, and its units are \"practical salinity units,\" which are calculated based on the measured conductivity don't directly correspond to a physical measurement (you will learn more about this in class). The **Absolute Salinity** is a function of practical salinity, as well as the location of the measurement, and is intended to give a more physical measurement of the mass fraction of salt in the seawater in units of grams per kilogram. (See documentation for `gsw.conversions.SA_from_SP(SP, p, lon, lat)`.)"
   ]
  },
  {
   "cell_type": "code",
   "execution_count": null,
   "id": "bb9940e7-9f8f-43e8-970a-195984150307",
   "metadata": {},
   "outputs": [],
   "source": [
    "# Calculate SA and add to ctd dataframe.\n",
    "ctd['SA'] = gsw.SA_from_SP(ctd.sal, ctd.pres, ctd_lon, ctd_lat)\n",
    "\n",
    "# Display summary of 'ctd'\n",
    "ctd"
   ]
  },
  {
   "cell_type": "code",
   "execution_count": null,
   "id": "3c8e5981-4ff1-49f3-bc6b-d7ada431fb7c",
   "metadata": {},
   "outputs": [],
   "source": [
    "# Plot both the practical and absolute salinity profiles on the same axes.\n",
    "# Include labels so that we can add a legend to distinguish between the two lines.\n",
    "plt.plot(ctd.sal, ctd.dep, label = 'practical salinity [psu]')\n",
    "plt.plot(ctd.SA,  ctd.dep, label = 'Absolute Salinity [g/kg]')\n",
    "\n",
    "# Flip y-axis so that surface is at top.\n",
    "plt.ylim(500, -5)\n",
    "\n",
    "# Add legend\n",
    "plt.legend()\n",
    "\n",
    "# Add grid lines\n",
    "plt.grid()\n",
    "\n",
    "# Add axis labels and plot title\n",
    "plt.ylabel('depth [m]')\n",
    "plt.xlabel('salinity')\n",
    "plt.title('Comparison between practical and absolute salinity')"
   ]
  },
  {
   "cell_type": "markdown",
   "id": "0f6e5812-39ee-461b-ba21-c58a99d5b7df",
   "metadata": {},
   "source": [
    "You can see that the values are similar and the basic shape of the profiles is the same, but there is an offset between practical and Absolute Salinity. Whenever you are reporting salinity values, be clear about which you are using."
   ]
  },
  {
   "cell_type": "markdown",
   "id": "4d4064a2-84a6-4212-838c-7e8dc006d28a",
   "metadata": {},
   "source": [
    "### Calculating potential and Conservative Temperature"
   ]
  },
  {
   "cell_type": "markdown",
   "id": "498908e5-ebfa-488b-b0aa-2fbcf5b060fa",
   "metadata": {},
   "source": [
    "Now we will do the same to calculate and plot potential temperature and Conservative Temperature.\n",
    "\n",
    "The temperature measured by the CTD (and included in this data file) is the **in situ temperature**. **Potential temperature** represents the temperature that a parcel of water would have if it were raised to the ocean surface (0 dbar), removing any effect of compression on temperature. **Conservative temperature** is a measure of the heat content in a water parcel expressed in units of temperature. All three have units of degrees Celsius."
   ]
  },
  {
   "cell_type": "markdown",
   "id": "bc03e72a-2ebf-4856-9334-6027950229f0",
   "metadata": {},
   "source": [
    "We will calculate and plot:\n",
    "1. Potential temperature, $\\theta$: `gsw.conversions.pt0_from_t(SA, t, p)`\n",
    "2. Conservative temperature, CT: `gsw.conversions.CT_from_t(SA, t, p)`"
   ]
  },
  {
   "cell_type": "code",
   "execution_count": null,
   "id": "2ab377b6-97dd-42f0-9eba-52593018136c",
   "metadata": {},
   "outputs": [],
   "source": [
    "# calculate potential temperature and add to dataframe\n",
    "ctd['theta'] = gsw.pt0_from_t(ctd.SA, ctd.temp, ctd.pres)\n",
    "\n",
    "# calculate conservative temperature and add to dataframe\n",
    "ctd['CT'] = gsw.CT_from_t(ctd.SA, ctd.temp, ctd.pres)\n",
    "\n",
    "# show dataframe summary\n",
    "ctd"
   ]
  },
  {
   "cell_type": "code",
   "execution_count": null,
   "id": "e5ce704f-7bb0-4069-8f57-7497036d5ccf",
   "metadata": {},
   "outputs": [],
   "source": [
    "# This will stretch out the x-axis slightly so you can see differences between \n",
    "# the variables.\n",
    "plt.figure(figsize = (7,4))\n",
    "\n",
    "# Plot all 3 temperature profiles together.\n",
    "# I commented out CT because it made it harder to see, but feel free to add it \n",
    "# after you look at the first two.\n",
    "plt.plot(ctd.temp, ctd.dep, label = 'in situ temp.')\n",
    "plt.plot(ctd.theta, ctd.dep, label = 'potential temp.')\n",
    "# plt.plot(ctd.CT, ctd.dep, label = 'conservative temp.')\n",
    "\n",
    "# Flip y-axis\n",
    "plt.ylim(500, -5)\n",
    "\n",
    "# Add legend\n",
    "plt.legend()\n",
    "\n",
    "# Add axis labels\n",
    "plt.ylabel('depth [m]')\n",
    "plt.xlabel('temperature [deg C]')\n",
    "plt.title('Comparison between temperature variables')"
   ]
  },
  {
   "cell_type": "markdown",
   "id": "8e0f2197-1a8e-41e7-88d8-d504bbb55265",
   "metadata": {},
   "source": [
    "Again, the values are similar between the temperature variables. When looking at just in situ and potential temperature together on this scale, they appear to fully overlap over much of the profile, and start to diverge slightly in the lower third or so, where in situ temperature starts to look very slightly warmer. You can uncomment the third plot command to see conservative temperature as well, which looks very similar to potential temperature."
   ]
  },
  {
   "cell_type": "markdown",
   "id": "6904a62b-798e-4ae4-877f-90f62c863516",
   "metadata": {},
   "source": [
    "### Calculating in situ and potential density"
   ]
  },
  {
   "cell_type": "markdown",
   "id": "a8f457b5-1cfc-4669-a94c-5b5d984522b6",
   "metadata": {},
   "source": [
    "As described at the top and in lecture, the density of ocean water is primarily determined by its temperature and salinity. However, like in situ temperature, density also increases with pressure. Therefore, we also have multiple ways of calculating and expressing density for different applications.\n",
    "\n",
    "**In situ density** is the actual measured density of seawater with pressure effects included. **Potential density** is the density a parcel of water would have if raised to the surface (0 dbar). Furthermore, we often express this as an anomaly by subtracting 1000 kg/m$^3$, which is the maximum density of freshwater, giving us the **potential density anomaly**."
   ]
  },
  {
   "cell_type": "markdown",
   "id": "a17fb7fe-06d6-4358-9c20-80295f87309b",
   "metadata": {},
   "source": [
    "We will calculate and plot:\n",
    "1. In situ density, $\\rho$: `gsw.density.rho(SA, CT, p)`\n",
    "2. Potential density anomaly, $\\sigma_0$: `gsw.density.sigma0(SA, CT)`"
   ]
  },
  {
   "cell_type": "code",
   "execution_count": null,
   "id": "48b50784-cd46-4806-9798-e829df467085",
   "metadata": {},
   "outputs": [],
   "source": [
    "# calculate in situ density and add to dataframe\n",
    "ctd['rho'] = gsw.rho(ctd.SA, ctd.CT, ctd.pres)\n",
    "\n",
    "# calculate potential density anomaly and add to dataframe\n",
    "ctd['sigma'] = gsw.sigma0(ctd.SA, ctd.CT)\n",
    "\n",
    "# show dataframe summary\n",
    "ctd"
   ]
  },
  {
   "cell_type": "code",
   "execution_count": null,
   "id": "02703ffa-f947-4e46-9afd-4cfcfbbb28e3",
   "metadata": {},
   "outputs": [],
   "source": [
    "# plot in situ density (rho) profile\n",
    "plt.plot(ctd.rho,ctd.dep, label = r'in situ density $\\sigma$')\n",
    "\n",
    "# plot potential density (sigma) profile, adding 1000 kg/m3 to compare to rho\n",
    "plt.plot(ctd.sigma+1000,ctd.dep, label = r'potential density $\\rho$')\n",
    "\n",
    "# flip y-axis\n",
    "plt.ylim(500, -5)\n",
    "\n",
    "# add legend\n",
    "plt.legend()\n",
    "\n",
    "# add axis labels\n",
    "plt.ylabel(r'depth [m]')\n",
    "plt.xlabel(r'density [kg/m$^3$]')\n",
    "plt.title(r'Comparison between density variables')"
   ]
  },
  {
   "cell_type": "markdown",
   "id": "47d33aab-cb0d-4e5e-b765-e5bffd4d3f9b",
   "metadata": {},
   "source": [
    "You can see that the pressure dependence of in situ density is pretty dramatic compared to temperature over this depth range! The potential density profile shows that the density gradient, or **stratification**, is much stronger in the upper 150 m than it is over the lower 200 m, while the in situ density profile suggests more continuous stratification due to the effect of pressure."
   ]
  },
  {
   "cell_type": "markdown",
   "id": "93855fe0-2c82-4092-8954-5cf8670a3cb6",
   "metadata": {},
   "source": [
    "### Plotting temperature versus salinity "
   ]
  },
  {
   "cell_type": "markdown",
   "id": "a5070588-376d-4af7-bb18-05a962f62361",
   "metadata": {},
   "source": [
    "In your previous assigment, I asked you to describe the temperature and salinity profiles individually. When two water parcels with different temperatures and salinities come into contact, the heat and salt generally mix together linearly, so it's often helpful to plot them together on one axis in addition to side-by-side, like you did last time."
   ]
  },
  {
   "cell_type": "markdown",
   "id": "86c60b7b-d2b4-4c47-98f3-529f7f1752cd",
   "metadata": {},
   "source": [
    "First, a refresher on subplots:"
   ]
  },
  {
   "cell_type": "code",
   "execution_count": null,
   "id": "f7fc505b-65ed-45af-923a-3e8ef6bf0fcd",
   "metadata": {},
   "outputs": [],
   "source": [
    "# create fig and ax objects using plt.subplots(_____) command:\n",
    "# create 1 row of 3 subplots using syntax plt.subplots(rows,cols, ...)\n",
    "# second argument figsize=(length,height)\n",
    "fig,ax = plt.subplots(1,3, figsize=(9,4.5)) \n",
    "\n",
    "#now modify each subplot with ax[0], ax[1], ax[2]...\n",
    "\n",
    "# plot conservative temperature profile on left\n",
    "ax[0].plot(ctd.CT, ctd.dep)\n",
    "ax[0].set_ylim(500, -5)\n",
    "ax[0].set_xlabel(r'cons. temperature [degC]')\n",
    "ax[0].set_ylabel(r'depth [m]')\n",
    "\n",
    "# plot salinity profile in middle\n",
    "ax[1].plot(ctd.SA, ctd.dep)\n",
    "ax[1].set_ylim(500, -5)\n",
    "ax[1].set_xlabel(r'abs. salinity [g/kg]')\n",
    "\n",
    "# plot potential density anomaly profile on right\n",
    "ax[2].plot(ctd.sigma, ctd.dep)\n",
    "ax[2].set_ylim(500, -5)\n",
    "ax[2].set_xlabel(r'potential density [kg/m$^3$]')\n",
    "\n",
    "# add title to middle subplot\n",
    "ax[1].set_title(r'CTD profile from southeast Greenland')"
   ]
  },
  {
   "cell_type": "markdown",
   "id": "7b1213ad-9971-401f-98db-7f46adda3ba2",
   "metadata": {},
   "source": [
    "Looking at these side-by-side, you might notice that the density looks quite a lot like the salinity."
   ]
  },
  {
   "cell_type": "code",
   "execution_count": null,
   "id": "d1eab9cf-00b2-4d25-9efa-ea78addcd719",
   "metadata": {},
   "outputs": [],
   "source": []
  },
  {
   "cell_type": "markdown",
   "id": "fb1e4a34-f749-4e85-b1ec-fb5333686abf",
   "metadata": {},
   "source": [
    "I've given you a function called `ts_plot` (saved in the `teos_fns.py` module). This function will create a figure with contour lines of constant density ($\\sigma$) given a range of temperature and salinity values. Then you can plot data on top of it.\n",
    "\n",
    "The syntax is: `ts_plot(SA, CT, plot_data, num_isopycs, col_contour, sigma_round)`\n",
    "* `SA` -- salinity data or salinity range\n",
    "* `CT` -- temperature data or temperature range\n",
    "* `plot_data` -- optional, default is 0 (True/False). Set to 1 to automatically plot data.\n",
    "* `num_isopycs` -- optional, default is 10 (integer). Set to choose how many contour lines to plot.\n",
    "* `col_contour` -- optional, default is 'k' (color). Set to choose color of density contours.\n",
    "* `sigma_round` -- optional, default is 0.25 (number). Set to choose max precision of density contours."
   ]
  },
  {
   "cell_type": "code",
   "execution_count": null,
   "id": "a324d6d2-12c6-486b-aa1c-9de963aac7b6",
   "metadata": {},
   "outputs": [],
   "source": []
  },
  {
   "cell_type": "markdown",
   "id": "85eb2434-62a5-4f40-8955-6e2ffd86beef",
   "metadata": {},
   "source": [
    "Here's an example of how it works, using a range of temperature and salinity values that roughly cover a typical range of properties in the global ocean."
   ]
  },
  {
   "cell_type": "code",
   "execution_count": null,
   "id": "9f32b7b7-bb05-4732-9804-55533ca46096",
   "metadata": {},
   "outputs": [],
   "source": [
    "# choose max and min values for SA and CT\n",
    "SArange = (29,35)\n",
    "CTrange = (-2, 30)\n",
    "\n",
    "# Generate a contour plot of potential density for these ranges\n",
    "ts_plot(SArange,CTrange)\n",
    "\n",
    "# the function automatically adds the x and y labels but let's add a title\n",
    "plt.title(r'Potential density anomaly $\\sigma$ [kg/m$^3$]')"
   ]
  },
  {
   "cell_type": "markdown",
   "id": "5047a37d-0d0c-4b45-8c41-741098e605ce",
   "metadata": {},
   "source": [
    "You can see the density contours (**isopycnals**) curving because the equation of state is nonlinear. For example, follow the 23 kg/m$^3$ contour line from bottom left to top right. At very low temperatures, the tangent to the contour is nearly vertical, which means that salinity has a stronger effect on density than temperature does. But at higher temperatures, the effect of temperature becomes larger."
   ]
  },
  {
   "cell_type": "markdown",
   "id": "77fe569b-be02-4991-b485-f0d344b55ec0",
   "metadata": {},
   "source": [
    "Now let's plot our CTD profile on a similar figure."
   ]
  },
  {
   "cell_type": "code",
   "execution_count": null,
   "id": "1141e4f8-6d02-46d4-9b0b-1fed6132fa2c",
   "metadata": {},
   "outputs": [],
   "source": [
    "# use the ts_plot function to plot the background density contours\n",
    "ts_plot(ctd.SA, ctd.CT)\n",
    "\n",
    "# use the plot command to plot the data points on top\n",
    "# '-o' tells matplotlib to plot a solid line ('-') and a circle ('o') at each point\n",
    "# markerfacecolor='none' makes the circles empty\n",
    "plt.plot(ctd.SA, ctd.CT, '-o', markerfacecolor='none')\n",
    "\n",
    "plt.title('Temperature-Salinity plot')"
   ]
  },
  {
   "cell_type": "markdown",
   "id": "d0afedfa-1c90-47f5-853e-040990c3e5e1",
   "metadata": {},
   "source": [
    "All of the water is relatively cold so the y-axis on this plot only goes from about -1 to 6 degrees Celsius, while the salinity range is relatively large. As mentioned above, the density at low temperature depends very strongly on salinity, so the isopycnals appear very steep. This is why the salinity and density profiles have such similar shapes, despite the significant changes in temperature with depth.\n",
    "\n",
    "So in this plot, the surface ocean (low density) is to the left. As you move toward the right, the water gets saltier and therefore denser. This plot shows temperature increasing initially, then decreasing, and then increasing again. But even as the deeper waters get warmer with depth, salinity continues to increase. This means that density is highest at the bottom and the water column is stable."
   ]
  }
 ],
 "metadata": {
  "kernelspec": {
   "display_name": "Python [conda env:eps135]",
   "language": "python",
   "name": "conda-env-eps135-py"
  },
  "language_info": {
   "codemirror_mode": {
    "name": "ipython",
    "version": 3
   },
   "file_extension": ".py",
   "mimetype": "text/x-python",
   "name": "python",
   "nbconvert_exporter": "python",
   "pygments_lexer": "ipython3",
   "version": "3.13.7"
  }
 },
 "nbformat": 4,
 "nbformat_minor": 5
}
