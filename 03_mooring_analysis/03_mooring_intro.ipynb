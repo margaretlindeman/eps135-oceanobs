{
 "cells": [
  {
   "cell_type": "markdown",
   "id": "494d97d4-4e81-4017-8654-3c07274003f4",
   "metadata": {},
   "source": [
    "## EPS/ESE 135: Observing the Ocean\n",
    "### Data Analysis Assignment 3 (Intro): Mooring data"
   ]
  },
  {
   "cell_type": "markdown",
   "id": "ff48fd3b-d19f-48cb-a38d-6c654efb85c1",
   "metadata": {},
   "source": [
    "This week's assignment has 3 goals:\n",
    "1. introduce the Python [xarray](https://docs.xarray.dev/en/stable/getting-started-guide/why-xarray.html) package. (Here's another reminder to check out the [Project Pythia xarray primer](https://foundations.projectpythia.org/core/xarray/xarray-intro/), which rocks.)\n",
    "2. practice using the GSW tools and other Python skills from previous assignments.\n",
    "3. explore a time series of oceanographic data from the North Atlantic.\n",
    "\n",
    "Like last week, you will first go through the code in this notebook, which will introduce the dataset and Python tools you will be working with. This time you will use the same dataset for the assignment. You will submit the assignment notebook (`03_mooring_assignment.ipynb`) on Canvas, either as an .ipynb file or PDF."
   ]
  },
  {
   "attachments": {},
   "cell_type": "markdown",
   "id": "01b0d51c-8fbb-41ee-9f42-f424ff5cbc1b",
   "metadata": {},
   "source": [
    "### The dataset\n",
    "\n",
    "You will be looking at a timeseries from the CF3 mooring, which is part of the [Overturning in the Subpolar North Atlantic Program](https://www.o-snap.org) array. This mooring is located on the continental shelf off the southeast coast of Greenland, with a bottom depth of approximately 180 m. In your first homework assignment, you plotted temperature and pressure records from the deepest sensor on this mooring. The schematic below shows the entire OSNAP array with arrows indicating the large scale ocean circulation in this region, including the southward-flowing East Greenland Current system. Strong ocean currents are sometimes observed at the location of CF3.\n",
    "\n",
    "![OSNAP array](osnap_array_schematic.jpg)"
   ]
  },
  {
   "cell_type": "markdown",
   "id": "ee9dea58-a188-47a4-a67c-ba93266549ae",
   "metadata": {},
   "source": [
    "So far we have worked with data saved as csv (comma-separated value) files. This works well for data sets that vary along one dimension. For example, the mooring timeseries in homework 1 had data recorded at a fixed location and depth, but a range of times. The CTD profiles had data recorded at a single location and time, but a range of depths.\n",
    "\n",
    "Now we will look at a data set that varies along two dimensions: depth and time.\n",
    "\n",
    "This file is stored as a NetCDF, a file type that can store multidimensional data with descriptive metadata. We will use the Python package xarray to work with this data set."
   ]
  },
  {
   "cell_type": "code",
   "execution_count": null,
   "id": "b6d8b38f-b106-42cf-87b3-4156660348b4",
   "metadata": {},
   "outputs": [],
   "source": [
    "# import python packages\n",
    "\n",
    "import numpy as np\n",
    "import xarray as xr\n",
    "import matplotlib.pyplot as plt\n",
    "import gsw"
   ]
  },
  {
   "cell_type": "code",
   "execution_count": null,
   "id": "5a7f3da1-fd12-488f-a7c7-9eda0fe644fe",
   "metadata": {},
   "outputs": [],
   "source": [
    "# import netcdf file as xarray data set\n",
    "cf3 = xr.open_dataset(\"CF3.nc\")\n",
    "\n",
    "# display summary of data set\n",
    "cf3"
   ]
  },
  {
   "cell_type": "markdown",
   "id": "463e6268-5566-4f74-8817-4d28afa0c9bc",
   "metadata": {},
   "source": [
    "In this initial summary:\n",
    "* You can see the first few and last few timestamps by clicking on the icon to the far right next to **time**, which show that this time series covers 8 years from August 2014 to August 2022, and the interval between subsequent measurements is 15 minutes.\n",
    "\n",
    "* You can also see that there are instruments at 3 depths. If you click on the sheet of paper (second icon from the right) next to **depth**, it will display the metadata for that variable including the units of depth, which is meters, i.e. the sensors were deployed at 50 m, 100 m, and 170 m.\n",
    "\n",
    "* Finally, if you click on the arrow next to `Attributes`, it will display the metadata associated with the overall data set."
   ]
  },
  {
   "cell_type": "markdown",
   "id": "09bad598-2081-42e9-90d0-8b93a3d2392e",
   "metadata": {},
   "source": [
    "### Plotting with xarray\n",
    "\n",
    "xarray has some simple built-in plotting functions that you can use to visualize the data variables. \n",
    "\n",
    "Note that `cf3['temperature']` and `cf3.temperature` are different ways of referring to/accessing the same data variable! You can choose the syntax you prefer."
   ]
  },
  {
   "cell_type": "code",
   "execution_count": null,
   "id": "1fc78856-d1a4-42e8-9406-c61ecc118151",
   "metadata": {},
   "outputs": [],
   "source": [
    "# make a line plot of the temperature time series for all three depths\n",
    "cf3['temperature'].plot.line(x='time')"
   ]
  },
  {
   "cell_type": "markdown",
   "id": "59432165-cff4-442b-a548-877b06a51baa",
   "metadata": {},
   "source": [
    "This function automatically uses the metadata to generate a legend and axis labels, which is helpful, but in this case we should probably choose our own more concise labels. We can also make the figure larger so it's not so scrunched."
   ]
  },
  {
   "cell_type": "code",
   "execution_count": null,
   "id": "df884177-43a4-432c-b339-17bf4ef4b322",
   "metadata": {},
   "outputs": [],
   "source": [
    "# make the line plot again, and then set title and y-axis label\n",
    "cf3['temperature'].plot.line(x='time', figsize = (10,5))\n",
    "plt.ylabel('in-situ temperature [°C]')\n",
    "plt.title('CF3 mooring temperature record')\n",
    "plt.grid()"
   ]
  },
  {
   "cell_type": "markdown",
   "id": "93706b67-11cb-4096-b060-29d17301dc30",
   "metadata": {},
   "source": [
    "Here are some features I can see from this figure:\n",
    "* there appears to be a seasonal cycle in temperature at each of the 3 depths.\n",
    "* the 50 m instrument (blue line) has the highest highs and the lowest lows; the 170 m temperature (green) appears less variable, with 100 m (orange) somewhere in between.\n",
    "* the blue line disappears for about one year from 2019-2020.\n",
    "\n",
    "Now let's plot the pressure time series the same way:"
   ]
  },
  {
   "cell_type": "code",
   "execution_count": null,
   "id": "c5912e64-5c4d-41ba-8e90-18e09a679b4a",
   "metadata": {},
   "outputs": [],
   "source": [
    "# plot pressure time series and set figure size\n",
    "cf3['pressure'].plot.line(x='time', figsize=(10,5))\n",
    "\n",
    "# add labels, title, and grid lines\n",
    "plt.ylabel('pressure [dbar]')\n",
    "plt.title('CF3 mooring pressure record')\n",
    "plt.grid()"
   ]
  },
  {
   "cell_type": "markdown",
   "id": "7c7e00a5-238a-4540-b848-bbd255e7bdba",
   "metadata": {},
   "source": [
    "There are a few things we should note here. First, look at the green line. This is the pressure record that you plotted in assignment 1. The labeled depth is 170 m. Let's check what the pressure *should* be at 170 m:"
   ]
  },
  {
   "cell_type": "code",
   "execution_count": null,
   "id": "31690ae2-3285-4ad9-b5ee-8418e117882d",
   "metadata": {},
   "outputs": [],
   "source": [
    "z_nom = 170 # nominal depth in meters\n",
    "lat = 60 # latitude in degrees north\n",
    "\n",
    "p_nom = gsw.p_from_z(-z_nom,lat) # calculate pressure at given depth using GSW toolbox\n",
    "\n",
    "# print output as sentence using formatted strings:\n",
    "# this rounds each value to the given number of decimal places\n",
    "print(f'The sea pressure at nominal depth {z_nom:.0f} m is {p_nom:.1f} dbar.')"
   ]
  },
  {
   "cell_type": "markdown",
   "id": "e5e575b8-55c0-4af2-8e8e-7ac1806ee447",
   "metadata": {},
   "source": [
    "The green line is at over 180 dbar, so that means that this instrument was deployed about 10 m deeper than intended. That's okay, but something we need to be aware of as we interpret the data."
   ]
  },
  {
   "cell_type": "markdown",
   "id": "82793a20-34dd-42f2-8f9c-074151eda0cf",
   "metadata": {},
   "source": [
    "Now consider the orange line, which represents data that are supposed to be collected at 100 m. A few things I notice here:\n",
    "* Every two years, there is a shift in the \"baseline\" pressure of this line. e.g. from 2014-16 the lowest pressure is slightly under 100 dbar. From 2016-18 it increases slightly. From 2018-20, it is a bit higher than 100 dbar. From 2020-22, it is again slightly lower than 100 dbar.\n",
    "* A lot of the time the pressure is much higher than 100 m, but only episodically.\n",
    "* There appears to be a seasonality in these events where the instrument is measuring higher pressures.\n",
    "\n",
    "The blue line (50 m) is more or less analogous to the orange line. The episodic increases in pressure appear to mirror the orange line, but with a somewhat larger magnitude."
   ]
  },
  {
   "cell_type": "markdown",
   "id": "1ae12217-f5be-490a-8328-96b963819325",
   "metadata": {},
   "source": [
    "Summarizing these observations, there are three key points to be aware of. \n",
    "\n",
    "1. We will refer to the labeled depths (50 m, 100 m, 170 m) as the \"nominal\" depths -- these are the intended depths of those sensors, but it's not uncommon for them to be slightly off, because the sea floor is not flat!\n",
    "2. The mooring was redeployed every two years (2014, 2016, 2018, and 2020) and the actual deployment depth shifts slightly each time. For this assignment, this is not an issue, but if we were interpreting long term changes, it would be important to account for any effect of changes in the measurement depth.\n",
    "3. The episodic increases in observed pressure are what we refer to as \"blowdowns.\" These are events where strong ocean currents push the mooring floats down, which looks like this:\n",
    "\n",
    "![mooring blowdown from https://proteusds.com/mooring-deflection-data-quality/](mooring-knockdown-excursion-tilt.png)\n",
    "\n",
    "In this illustration `U` represents the direction of the ocean current. The dashed line represents the neutral position of the mooring. `A` represents the horizontal displacement of the blown-down mooring, and `B` represents the resulting vertical displacement. The blue shading in the background represents layers of increasing density. We can imagine that the instrument next to the letter C is measuring denser water than it would in its neutral position, not necessarily because the water there has become denser but because it has been displaced deeper in the water column.\n",
    "\n",
    "Notice that these events don't directly affect pressure at the deepest instrument because it is rigidly attached to a tripod (similar to what you saw in class on 9/23). What does show up in the pressure record at the bottom are tides, as you saw in assignment 1."
   ]
  },
  {
   "cell_type": "markdown",
   "id": "c0001cd3-08ea-4e88-8248-d104d0a94938",
   "metadata": {},
   "source": [
    "### Subsets of xarray data sets\n",
    "\n",
    "For parts of this week's assignment you will be working with a shorter section of the time series. xarray allows you to select subsets by indices (using `isel(time=____)`, i.e. choose the first 2880 timestamps using `time=[0:2880]`) or by coordinates (using `sel(time=____)`, i.e. choose a span of 30 days by entering the start and end dates). \n",
    "\n",
    "These can also be used with the depth coordinate. If you wanted to see only the record from the 50 m instrument, you could either use:\n",
    "* `isel(depth=0)`, because it is the first depth value (index 0)\n",
    "* `sel(depth=50)`, to directly specify the desired value of the depth coordinate\n",
    "\n",
    "There are two python functions that simplify this further: \n",
    "* `range(maxvalue)` will generate a list of integers beginning with 0 and up to (but excluding) `maxvalue`. This is good for specifying indices. ([examples](https://www.w3schools.com/python/ref_func_range.asp))\n",
    "* `slice(minvalue,maxvalue)` is a more general option that allows you to specify other types of beginning and end values, including start and end dates. ([examples](https://www.w3schools.com/python/ref_func_slice.asp))\n",
    "\n",
    "Here are examples of both approaches:"
   ]
  },
  {
   "cell_type": "code",
   "execution_count": null,
   "id": "659f3c06-5162-4375-aebf-bb1e464672ae",
   "metadata": {},
   "outputs": [],
   "source": [
    "# select by indices using isel and range\n",
    "# this is analogous to how you plotted one month of data last time\n",
    "cf3_1month = cf3.isel(time=range(2880))\n",
    "\n",
    "# plot pressure variable for this subset of the data\n",
    "cf3_1month.pressure.plot.line(x='time')\n",
    "\n",
    "# add title\n",
    "plt.title('CF3 mooring pressure record, August-September 2014')"
   ]
  },
  {
   "cell_type": "code",
   "execution_count": null,
   "id": "7bcd1478-9420-4c89-828d-eb14374e18ed",
   "metadata": {},
   "outputs": [],
   "source": [
    "# select by time coordinates using sel and slice\n",
    "# let's choose the first 2-year deployment, from August 16 2014 to August 10 2016\n",
    "cf3_d1 = cf3.sel(time=slice(\"2014-08-16\",\"2016-08-10\"))\n",
    "\n",
    "# plot pressure variable for this subset of the data and expand figure size\n",
    "cf3_d1.pressure.plot.line(x='time',figsize = (10,5))\n",
    "\n",
    "# add title\n",
    "plt.title('CF3 mooring pressure record, 2014-16')"
   ]
  },
  {
   "cell_type": "markdown",
   "id": "c5a1f491-3bbb-4924-bcbd-e6201969fdd0",
   "metadata": {},
   "source": [
    "### Identifying blowdowns\n",
    "\n",
    "Blowdown events can bias ocean mooring records. Python has some useful tools for weeding out data points that fall outside of a normal range.\n",
    "\n",
    "Let's use the record from the nominal 50 m instrument during deployment 1 to work through an example of a simple method for identifying blowdowns. Let's define a blowdown as any time that the observed pressure is greater than the baseline pressure by 10 dbar or more.\n",
    "\n",
    "We'll use the median pressure as our baseline:"
   ]
  },
  {
   "cell_type": "code",
   "execution_count": null,
   "id": "c8aa7be8-c483-4558-8765-3677adbfef3f",
   "metadata": {},
   "outputs": [],
   "source": [
    "# calculate median pressure for 50 m instrument\n",
    "cf3_d1.sel(depth=50).pressure.median()"
   ]
  },
  {
   "cell_type": "code",
   "execution_count": null,
   "id": "ac8ad817-d27a-4e16-9558-6eb29e9b384b",
   "metadata": {},
   "outputs": [],
   "source": [
    "# save this value as a variable\n",
    "pres50_baseline = float(cf3_d1.sel(depth=50).pressure.median())\n",
    "\n",
    "# set delta_p, our definition of blowdown for this example\n",
    "delta_p = 10\n",
    "\n",
    "# we define the threshold blowdown pressure as baseline + delta_p\n",
    "pres50_blowdown = pres50_baseline + delta_p\n",
    "\n",
    "# print the resulting values as a sentence\n",
    "print(f'The median pressure is {pres50_baseline:.1f} dbar, and the blowdown threshold is {pres50_blowdown:.1f} dbar.')"
   ]
  },
  {
   "cell_type": "markdown",
   "id": "3f051100-e1c9-47ad-97e7-c2f2555ede66",
   "metadata": {},
   "source": [
    "We can use the greater and less than signs (`>` and `<`) as operators in Python to compare all of the values in the pressure record to this threshold. This returns a \"boolean array\" which is just a list of True/False values. It effectively tells us which time points in the record are below or above the pressure threshold."
   ]
  },
  {
   "cell_type": "code",
   "execution_count": null,
   "id": "399b2154-f6e9-4311-bf1a-233388ea00df",
   "metadata": {},
   "outputs": [],
   "source": [
    "# find measurements with pressure below the threshold, i.e. within the normal range\n",
    "inrange = cf3_d1.sel(depth=50).pressure <= pres50_blowdown\n",
    "\n",
    "# find measurements with pressure above the threshold, i.e. during a blowdown\n",
    "notinrange = cf3_d1.sel(depth=50).pressure > pres50_blowdown\n",
    "\n",
    "# print a preview of the \"inrange\" array\n",
    "inrange.values"
   ]
  },
  {
   "cell_type": "markdown",
   "id": "653fdbf0-f657-4ec0-a63c-c76d14f409d3",
   "metadata": {},
   "source": [
    "`True` is assigned a value of 1 and `False` is assigned a value of 0, so you can simply calculate a sum of the `notinrange` array to find out how many of the measurements are associated with a blowdown as we've defined it here."
   ]
  },
  {
   "cell_type": "code",
   "execution_count": null,
   "id": "bc4a3102-b97e-431f-95bd-03d47b8d0b20",
   "metadata": {},
   "outputs": [],
   "source": [
    "# calculate the number of blowdown values by summing the True/False array\n",
    "bd_obs = sum(notinrange.values)\n",
    "\n",
    "# print the result\n",
    "print(f'{bd_obs} measurements were taken during a blowdown event.')"
   ]
  },
  {
   "cell_type": "markdown",
   "id": "c15ac7a7-7c24-40b8-a2f8-b56bc88213a9",
   "metadata": {},
   "source": [
    "We can use this to create a \"masked\" version of the time series that removes data points associated with a blowdown event."
   ]
  },
  {
   "cell_type": "code",
   "execution_count": null,
   "id": "ed903139-e8ee-4a63-abe9-74747195e525",
   "metadata": {},
   "outputs": [],
   "source": [
    "# the where function tells xarray to keep only the data points associated with a \"True\" value\n",
    "cf3_d1_masked = cf3_d1.where(inrange)\n",
    "\n",
    "# plot the masked pressure timeseries for all depths\n",
    "cf3_d1_masked.pressure.plot.line(x='time')\n",
    "plt.title('Pressure with blowdown events removed')"
   ]
  },
  {
   "cell_type": "markdown",
   "id": "e1bb62ab-137b-4ff3-96ef-17152c846d6c",
   "metadata": {},
   "source": [
    "While this is a somewhat crude method, you can see that removing the data points where a blowdown was identified at 50 m also removed the large blowdowns at 100 m."
   ]
  },
  {
   "cell_type": "markdown",
   "id": "94dfe5b1-3f79-49c4-a4e1-2af4ce409e17",
   "metadata": {},
   "source": [
    "### Using groupby to calculate monthly statistics\n",
    "\n",
    "You can also use xarray to easily \"group\" your data by month and calculate statistics on it. In other words, it will go through the entire record and group data from January of each year, February of each year, etc. This is a very useful tool for calculating climatologies, or monthly averages of properties like temperature and salinity, which you will do in your homework assignment, using the function `[dataset].groupby('time.month').mean()`.\n",
    "\n",
    "Here's what it looks like if we calculate the mean fraction of events that are \"in range\" and \"not in range\" for each month during 2014-16."
   ]
  },
  {
   "cell_type": "code",
   "execution_count": null,
   "id": "369d1a4c-efd7-4c57-96cb-62ff2f235a0b",
   "metadata": {},
   "outputs": [],
   "source": [
    "# create a figure with one row and two columns of subplots\n",
    "# the left subplot is axis[0] and the right subplot is axis[1]\n",
    "fig, axis = plt.subplots(1,2, figsize=(10,5))\n",
    "\n",
    "# this is a combination of a bunch of different functions! from left to right:\n",
    "# notinrange is the dataset we want to manipulate\n",
    "# groupby('time.month') tells xarray to group the data in notinrange by month\n",
    "# mean() then tells it to calculate the average of the True/False values in each group\n",
    "# plot.line() is the same command we used above, but now we've specified which subplot axis to use\n",
    "notinrange.groupby('time.month').mean().plot.line(ax=axis[0])\n",
    "\n",
    "# set title and labels\n",
    "axis[0].set_title('blowdowns')\n",
    "axis[0].set_ylabel('fraction of measurements')\n",
    "\n",
    "\n",
    "# now do the same thing for the inrange data, plotting on the righthand subplot (axis[1])\n",
    "inrange.groupby('time.month').mean().plot.line(ax=axis[1])\n",
    "\n",
    "# set title and labels\n",
    "axis[1].set_title('not blowdowns')\n",
    "axis[1].set_ylabel('fraction of measurements')\n"
   ]
  },
  {
   "cell_type": "markdown",
   "id": "825c55e4-c601-485e-8839-fa940bf52cdf",
   "metadata": {},
   "source": [
    "### Other tips\n",
    "\n",
    "* One thing you may see in your assignment is a \"NaN\" value, which means \"not a number.\" This can show up if a calculation has no possible solution. Sometimes that means you did something wrong...but sometimes it just means that something is not physically possible. Why might that be...?\n",
    "\n",
    "* To add a variable to an xarray dataset:"
   ]
  },
  {
   "cell_type": "code",
   "execution_count": null,
   "id": "8ff25195-1e8b-42a0-9557-ecc3ea80a6bd",
   "metadata": {},
   "outputs": [],
   "source": [
    "# save (approximate) lon and lat variable\n",
    "lon = -42\n",
    "lat = 60\n",
    "\n",
    "# calculate SA (right side of equal sign) and assign it to a new field in the dataset (left side)\n",
    "cf3['SA'] = gsw.SA_from_SP(cf3['salinity'], cf3['pressure'], lon, lat)\n",
    "\n",
    "# display summary of dataset to make sure this worked\n",
    "cf3"
   ]
  }
 ],
 "metadata": {
  "kernelspec": {
   "display_name": "Python 3 (ipykernel)",
   "language": "python",
   "name": "python3"
  },
  "language_info": {
   "codemirror_mode": {
    "name": "ipython",
    "version": 3
   },
   "file_extension": ".py",
   "mimetype": "text/x-python",
   "name": "python",
   "nbconvert_exporter": "python",
   "pygments_lexer": "ipython3",
   "version": "3.13.7"
  }
 },
 "nbformat": 4,
 "nbformat_minor": 5
}
