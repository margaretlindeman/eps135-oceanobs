{
 "cells": [
  {
   "cell_type": "markdown",
   "id": "8c74d16b-ee1b-4552-9130-f4de85054239",
   "metadata": {},
   "source": [
    "## EPS/ESE 135: Observing the Ocean\n",
    "### Data Analysis Assignment 3: Mooring data"
   ]
  },
  {
   "cell_type": "markdown",
   "id": "89f75f76-e684-4ee1-850e-dade88ca071c",
   "metadata": {},
   "source": [
    "Before beginning this assignment, run through `03_mooring_intro.ipynb`. You will be using the same data set, saved in the NetCDF file `CF3.nc`. The calculations here are similar to those in the intro notebook, but there are some differences, so read carefully!\n",
    "\n",
    "Instructions:\n",
    "\n",
    "* Before each exercise, include a markdown cell with a heading that says `### Exercise 1`, etc.\n",
    "* Comment your code.\n",
    "* Any time you make a plot, check that it has useful axis labels, title, legend if needed, etc.\n",
    "* Answers to questions should be reported in complete sentences with units, either by [printing a string to report a calculated value](https://docs.python.org/3/tutorial/inputoutput.html#formatted-string-literals), or in markdown cells for longer answers/descriptions where required.\n",
    "* You may submit this assignment either as a .ipynb file or PDF.\n",
    "* Do not use generative AI tools for this assignment. Refer to the intro notebook, previous assignments, Python documentation (or other guides), ask classmates for help, or contact me if you're stuck."
   ]
  },
  {
   "cell_type": "markdown",
   "id": "88318c42-24d2-4b3d-af0d-46ddf0575672",
   "metadata": {},
   "source": [
    "Exercises:\n",
    "\n",
    "1. The CF3 mooring is located on the southeast Greenland continental shelf at 60º 01' 44\" N, 42º 25' 54\" W. Why do you think this location was chosen for a mooring deployment? Refer to the schematic of the OSNAP array and the Rahmstorf (2024) commentary in your answer.\n",
    "\n",
    "2. Define a function `minsec_to_dec(deg, min, sec)` that returns each coordinate value in decimal degrees. (You may refer to assignment 1 for a reminder on how to define a function, and the lecture notes for a reminder on how to do this calculation.) Use the function to convert this mooring's coordinates to decimal degrees and save these variables as `lat` and `lon`.\n",
    "\n",
    "3. Use xarray to open the data set. Make a line plot of the salinity variable. Describe what you see (patterns, trends, differences between the sensors, problems).\n",
    "\n",
    "4. Use the gsw toolbox to calculate Absolute Salinity (SA), Conservative Temperature (CT), and potential density anomaly ($\\sigma_0$), and add each variable to the xarray dataset. Display the dataset summary.\n",
    "\n",
    "5. Use the `dataset.groupby(_____).mean()` function to calculate the average temperature and salinity values for each month of the year over the mooring record. Create two subplots, with monthly temperature at each depth on the left and salinity on the right. Describe how temperature and salinity vary with depth over the annual cycle.\n",
    "\n",
    "6. Create a new variable containing a subset of the time series beginning on 13 July 2020 and ending on 25 August 2022 (deployment 4). Plot the pressure record for this shortened timeseries.\n",
    "\n",
    "7. For deployment 4 only, calculate the median pressure for the (nominal) 50 m instrument, and the blowdown threshold, defining blowdown as a pressure increase of **8 dbar**. Which month has the most blowdowns on average, and which month has the fewest? Approximately what percentage of measurements occur during a blowdown in summer, and what percentage in winter? Why do you think this might be?\n",
    "\n",
    "8. Going back to the full time series, calculate the difference in potential density anomaly ($\\sigma_0$) between the 50 m instrument and 170 m instrument. Plot the mean of this difference for each month of the year (i.e. averaged monthly over all years). In which month is the water column stratification (density layering) the most stable, and when is it least stable? Why do you think this is?\n",
    "\n",
    "9. Recall that *potential density* is calculated using SA and CT with a reference pressure of 0 dbar, so you can use the function `gsw.rho(SA,CT,p=0)` to calculate potential density. Imagine that the water column here just two layers. In the lower layer, SA is 34.5 g/kg and CT is 2.7ºC. In the upper layer, SA is 34.2 g/kg and CT is 0.9ºC. What is the potential density of each layer? How much colder would the upper layer need to get to reach the potential density of the lower layer? (Hint: there is a function `CT_from_rho` in the [gsw toolbox](https://teos-10.github.io/GSW-Python/gsw_flat.html).)\n",
    "\n",
    "10. What if SA at 50 m is 33.9 g/kg in this scenario? What are the implications of this result? (Consider the processes driving ocean circulation that we have discussed in class and factors that could affect the salinity of the upper ocean.)"
   ]
  }
 ],
 "metadata": {
  "kernelspec": {
   "display_name": "Python 3 (ipykernel)",
   "language": "python",
   "name": "python3"
  },
  "language_info": {
   "codemirror_mode": {
    "name": "ipython",
    "version": 3
   },
   "file_extension": ".py",
   "mimetype": "text/x-python",
   "name": "python",
   "nbconvert_exporter": "python",
   "pygments_lexer": "ipython3",
   "version": "3.13.7"
  }
 },
 "nbformat": 4,
 "nbformat_minor": 5
}
