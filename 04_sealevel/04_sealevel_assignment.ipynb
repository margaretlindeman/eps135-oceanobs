{
 "cells": [
  {
   "cell_type": "markdown",
   "id": "1ad9f48b-c77b-409a-9517-de0be0bee4b3",
   "metadata": {},
   "source": [
    "## EPS/ESE 135: Observing the Ocean\n",
    "### Data Analysis Assignment 4: Sea level records"
   ]
  },
  {
   "cell_type": "markdown",
   "id": "70359922-157a-4a63-9c6f-a745208988cf",
   "metadata": {},
   "source": [
    "Instructions:\n",
    "\n",
    "* At the start of each exercise, include a markdown cell with a heading that says `### Exercise 1`, etc.\n",
    "* Comment your code.\n",
    "* Answers to questions should be reported in complete sentences with units (where applicable), with calculations printed as a formatted string and longer responses to prompts written in Markdown.\n",
    "* Any time you make a plot, check that it has useful axis labels, title, legend if needed, etc.\n",
    "* You may submit this assignment either as a .ipynb file or PDF.\n",
    "* Do not use generative AI tools for this assignment. Refer to the intro notebook, previous assignments, Python documentation (or other guides), ask classmates for help, or contact me if you're stuck."
   ]
  },
  {
   "cell_type": "markdown",
   "id": "b9c56a55-85f9-4d71-9d5f-3c08011cf6d0",
   "metadata": {},
   "source": [
    "Exercises:\n",
    "1. Choose a sea level record for your analysis, ensuring that it has ~50 years of data and real time data available. Before you start, do you expect sea level at this location to be changing at a rate similar to the global mean? Why or why not?\n",
    "2. Access the real time data viewer and choose \"7 days\" under Period. (You may want to choose \"remove spikes\" if applicable.) Save the plot by right clicking on the image or by taking a screenshot and embed it in a Markdown cell using the following syntax: `![alt-text](image-path/filename)` How many high tide peaks are there in the 7-day record? If there is more than one tidal cycle per day, are they similar in magnitude? What is the approximate tidal range (difference between low and high tide heights)?\n",
    "3. Now look at the 30-day record (and embed the plot in this notebook). Describe the tidal variation over this timescale. Which points in the month do you think correspond to a full or new moon (spring tide)? Which points in the month do you think correspond to the quarter moon (neap tide)? What is the approximate tidal range during each of these periods?\n",
    "4. A quick diversion from your chosen site: Look at the [New York City (Battery Park) tide gauge data](http://www.ioc-sealevelmonitoring.org/station.php?code=btny). Using the calendar under Period, choose the date November 12, 2012 and plot 30 days of data.\n",
    "   * What do you see in this record during the last week of October?\n",
    "   * What type of event do you think this was?\n",
    "   * What is the highest water level outside of this event?\n",
    "   * What is the lowest water level during this event?\n",
    "   * How do these compare? What does this tell you about interactions between drivers of sea level change?\n",
    "5. Now download the monthly averaged tide gauge data from your chosen location. Plot the timeseries (sea level on the y-axis against time on the x-axis).\n",
    "   * Plot the 10-year rolling mean over the timeseries.\n",
    "   * Calculate the linear trend for the full record and plot this line on the same axes.\n",
    "   * What is the trend in mm/yr? How does this trend compare to the global mean (approx. 1.5-3 mm/year over the past 50 years)?\n",
    "   * Describe what you see in the data and how it compares to the trend line. Do you think there is a consistent trend over the whole timeseries that is described well by a single value? Or do you see an inflection point (or multiple) where the trend appears to change?\n",
    "6. Choose one or more points to split your timeseries and calculate the linear trend for each. If you noticed a time where the trend shifted, split it there! If not, split it at the year 2000 and calculate trends for the 20th/21st centuries. Describe what you found.\n",
    "7. Use `groupby` to calculate the average sea level for each month over all years of the record (i.e. mean of all Januaries, all Februaries, etc.) and plot the climatology. Is there a seasonal cycle? If so, describe what it looks like and what might be driving it. If not, do you have any guesses why not?\n",
    "8. Come up with your own question about projected sea level rise impacts on a coastal area of the United States (which could be the same as your tide gauge location if it's in the US). Explore the [NOAA Sea Level Rise viewer](https://coast.noaa.gov/slr/#). You can also look at this [visualization of historical and projected high tide flooding events](https://tidesandcurrents.noaa.gov/high-tide-flooding/annual-outlook.html?station=8443970). Describe what you learn, including a screenshot."
   ]
  },
  {
   "cell_type": "markdown",
   "id": "491b607f-a112-49d6-be03-c3b3b6e3b356",
   "metadata": {},
   "source": [
    "### Exercise 1\n",
    "..."
   ]
  }
 ],
 "metadata": {
  "kernelspec": {
   "display_name": "Python 3 (ipykernel)",
   "language": "python",
   "name": "python3"
  },
  "language_info": {
   "codemirror_mode": {
    "name": "ipython",
    "version": 3
   },
   "file_extension": ".py",
   "mimetype": "text/x-python",
   "name": "python",
   "nbconvert_exporter": "python",
   "pygments_lexer": "ipython3",
   "version": "3.13.7"
  }
 },
 "nbformat": 4,
 "nbformat_minor": 5
}
