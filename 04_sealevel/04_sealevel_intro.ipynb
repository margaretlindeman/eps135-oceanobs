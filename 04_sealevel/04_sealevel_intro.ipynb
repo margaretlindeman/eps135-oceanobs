{
 "cells": [
  {
   "cell_type": "markdown",
   "id": "bb5db217-094f-4afb-9058-a36009d64bd7",
   "metadata": {},
   "source": [
    "## EPS/ESE 135: Observing the Ocean\n",
    "### Data Analysis Assignment 4 (Intro): Sea level records"
   ]
  },
  {
   "cell_type": "markdown",
   "id": "f5ae45f0-a723-485c-bca6-6164c086471d",
   "metadata": {},
   "source": [
    "For this assignment, you will download and analyze a sea level record of your choice from the [Permanent Service for Mean Sea Level (PSMSL)](https://psmsl.org)."
   ]
  },
  {
   "cell_type": "markdown",
   "id": "71bf48bd-6b29-4e34-ac12-de831e6691d1",
   "metadata": {},
   "source": [
    "### Accessing tide gauge records via PSMSL\n",
    "\n",
    "The National Oceanography Centre of the UK maintains a [database of tide gauge records](https://psmsl.org/data/obtaining/) from around the world. You can choose any location you'd like provided it has about 50+ years of data (this is a rough guideline, it's okay if you pick somewhere with a slightly shorter record) and also includes real time data access. For example, here is a screenshot of the station page for the Boston tide gauge:\n",
    "\n",
    "![screenshot of Boston tide gauge station](PSMSL_screenshot.png)\n",
    "\n",
    "At the top, the listed time span is 1921-2023 (102 years). You can also see a plot of monthly data showing that there is good data coverage over the past century. You can download the monthly data next to the arrow labeled `2`.\n",
    "\n",
    "You can also see next to the arrow labeled `1` it says \"Nearby real time stations from VLIZ\" with a link to \"boma\" (shorthand for Boston, MA...). You will use this for the first few parts of the assignment, so check to make sure the station you choose has real time data."
   ]
  },
  {
   "cell_type": "markdown",
   "id": "87b6977c-f6d7-4421-9307-890c6cd70dd5",
   "metadata": {},
   "source": [
    "### 1. Short term sea level changes\n",
    "\n",
    "Click the link next to arrow #1 for your chosen location. Here's what the real-time data viewer should look like:\n",
    "\n",
    "![real time data view for Boston](boston_realtime.png)\n",
    "\n",
    "You will use this interface to plot different timeframes (under \"Period\" in the lower left),  remove spikes/outliers if needed (under \"Signals\" just to the right), and then add the plots to your assignment by downloading the images to the folder containing your .ipynb file."
   ]
  },
  {
   "cell_type": "markdown",
   "id": "dd91adf6-fc81-4fb4-95e5-e3582341fcfd",
   "metadata": {},
   "source": [
    "### 2. Long-term sea level changes\n",
    "\n",
    "Then you will download the monthly-average sea level data by clicking the link next to arrow #2. The files downloaded from this site have the extension `.rlrdata`. Open your data file in a text editor. It should look something like this:\n",
    "\n",
    "![rlrdata screenshot](data_screenshot.png)\n",
    "\n",
    "Even though it has a different file extension, this is functionally a csv-type file, except it is delimited by semicolons instead of commas. \n",
    "\n",
    "The first column is \"decimal years\" where each month is represented by the year + 1/12. (You could convert these to datetime but these values will work well for analyzing long-term trends.) \n",
    "\n",
    "The second column is sea level in millimeters. (These specific values are called the [Revised Local Reference](https://psmsl.org/data/obtaining/rlr.php) -- it's not important to understand the details but if you want them they're there.)\n",
    "\n",
    "The final two columns are some kind of data flag that we can ignore.\n",
    "\n",
    "Here's a suggestion of how to read in the file:"
   ]
  },
  {
   "cell_type": "code",
   "execution_count": null,
   "id": "3755dd5e-5f7a-449d-95ac-f99b1e74a0b9",
   "metadata": {},
   "outputs": [],
   "source": [
    "# import the usual python libraries\n",
    "import pandas as pd\n",
    "import numpy as np\n",
    "import matplotlib.pyplot as plt"
   ]
  },
  {
   "cell_type": "code",
   "execution_count": null,
   "id": "e16cb982-c75a-404c-b467-925ccd7e664c",
   "metadata": {},
   "outputs": [],
   "source": [
    "# this uses the same read_csv function to read in the file\n",
    "# because columns are separated by semicolon, need to add the 'delimeter' argument\n",
    "# the file doesn't include column headers, so I add them manually with 'names'\n",
    "#    the only columns we really need are year and sea level (RLR)\n",
    "#    the last 2 column names are just placeholders\n",
    "data = pd.read_csv('[station_number].rlrdata',delimiter=';',names=['year','SL','x','xx'])\n",
    "\n",
    "# quick plot to visualize data\n",
    "data.plot(x='year',y='SL')\n",
    "plt.ylabel('sea level [mm]')\n",
    "plt.xlabel('year')"
   ]
  },
  {
   "cell_type": "markdown",
   "id": "893828b4-fbe4-4e37-b32d-f81a346ccb0d",
   "metadata": {},
   "source": [
    "If you run this code (or look closely at the screenshot above) you will see there are some values of -99999. These are placeholders for missing data, which will really throw off your plots and calculations. One quick way to remove them is:"
   ]
  },
  {
   "cell_type": "code",
   "execution_count": null,
   "id": "d9d9154b-d78b-4a32-b0d5-57a6a7321e01",
   "metadata": {},
   "outputs": [],
   "source": [
    "# create a new version of dataframe that drops negative values of RLR\n",
    "data_clean = data[data.SL>=0]\n",
    "data_clean.plot(x='year',y='SL')"
   ]
  },
  {
   "cell_type": "markdown",
   "id": "26f40a6a-dfbc-49e1-b93b-4094e553b291",
   "metadata": {},
   "source": [
    "One simple way to smooth a timeseries is to calculate a rolling mean, also known as a boxcar filter. You choose a window size and this window is effectively dragged along the timeseries and the mean value inside the window is calculated at each step. \n",
    "\n",
    "To calculate the rolling mean, use the [pandas function](https://pandas.pydata.org/docs/reference/api/pandas.DataFrame.rolling.html) `.rolling(_____).mean()`:"
   ]
  },
  {
   "cell_type": "code",
   "execution_count": null,
   "id": "c04a7a6c-74ae-4dfb-9875-9fc608469e70",
   "metadata": {},
   "outputs": [],
   "source": [
    "# to calculate a 10-year mean, average over 10 years * 12 months/year = 120 months\n",
    "n_months = 120\n",
    "\n",
    "# the arguments to .rolling() are:\n",
    "#   window=n_months (because the time interval for these data is monthly)\n",
    "#   center=True (so the mean is plotted at the center of each window)\n",
    "#   min_periods=n_months/2 (this will do the calculation for windows that are only half full, \n",
    "#                   to avoid gaps at the edges)\n",
    "data_clean['SL_10yr'] = data_clean['SL'].rolling(window=n_months, center=True, min_periods=n_months//2).mean()\n",
    "\n",
    "# plot the monthly data together with the rolling mean\n",
    "# give each line a label so that we can get a useful legend\n",
    "plt.plot(data_clean['year'],data_clean['SL'],label='monthly mean')\n",
    "plt.plot(data_clean['year'],data_clean['SL_10yr'],label='10-year rolling mean')\n",
    "plt.ylabel('sea level [mm]')\n",
    "plt.xlabel('year')\n",
    "plt.legend()\n",
    "plt.title('Tide gauge record from Boston')"
   ]
  },
  {
   "cell_type": "markdown",
   "id": "6a0735a4-8089-44fe-bb80-a730f5556e7b",
   "metadata": {},
   "source": [
    "To calculate the linear trend, use `numpy.polyfit()` ([documentation here](https://numpy.org/doc/stable/reference/generated/numpy.polyfit.html)) to fit a 1st-order polynomial to your data. This function will return a slope and intercept value that you can use to calculate and plot the best fit line."
   ]
  },
  {
   "cell_type": "code",
   "execution_count": null,
   "id": "e0e2bc0d-5d80-4cb7-b0a7-4aba60432666",
   "metadata": {},
   "outputs": [],
   "source": [
    "# choose order of polynomial to fit -- for a linear trend this is 1\n",
    "poly_order = 1\n",
    "\n",
    "# inputs to np.polyfit are (x-data, y-data, order)\n",
    "# returns slope m and intercept b\n",
    "m, b = np.polyfit(data_clean['year'], data_clean['SL'], poly_order)\n",
    "\n",
    "print(f'The linear trend over this record is {m:.2f} mm/year.')"
   ]
  },
  {
   "cell_type": "code",
   "execution_count": null,
   "id": "3783e959-e885-4e1e-8e54-bc9f18fb301c",
   "metadata": {},
   "outputs": [],
   "source": [
    "# calculate trend line over years in timeseries\n",
    "linfit = m*data_clean['year'] + b\n",
    "\n",
    "# re-plot lines from previous section\n",
    "plt.plot(data_clean['year'],data_clean['SL'],label='monthly mean')\n",
    "plt.plot(data_clean['year'],data_clean['SL_10yr'],label='10-year rolling mean')\n",
    "\n",
    "# add trend line to plot\n",
    "plt.plot(data_clean['year'],linfit,color='pink',label='linear trend')\n",
    "\n",
    "# add labels, title, legend\n",
    "plt.ylabel('sea level [mm]')\n",
    "plt.xlabel('year')\n",
    "plt.legend()\n",
    "plt.title('Tide gauge record from Boston')"
   ]
  },
  {
   "cell_type": "markdown",
   "id": "0a03ac6b-70be-4150-a159-36b7e4c51536",
   "metadata": {},
   "source": [
    "To do these calculations for shorter periods within the timeseries, you can save a new dataframe for each section and then apply the same steps to each."
   ]
  }
 ],
 "metadata": {
  "kernelspec": {
   "display_name": "Python 3 (ipykernel)",
   "language": "python",
   "name": "python3"
  },
  "language_info": {
   "codemirror_mode": {
    "name": "ipython",
    "version": 3
   },
   "file_extension": ".py",
   "mimetype": "text/x-python",
   "name": "python",
   "nbconvert_exporter": "python",
   "pygments_lexer": "ipython3",
   "version": "3.13.7"
  }
 },
 "nbformat": 4,
 "nbformat_minor": 5
}
