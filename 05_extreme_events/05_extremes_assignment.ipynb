{
 "cells": [
  {
   "cell_type": "markdown",
   "id": "a16ce444-a880-4097-85be-630b3a47ca70",
   "metadata": {},
   "source": [
    "## EPS/ESE 135: Observing the Ocean\n",
    "### Data Analysis Assignment 5: Extreme events"
   ]
  },
  {
   "cell_type": "markdown",
   "id": "68c80f6f-c174-4175-b0e4-784f7f702403",
   "metadata": {},
   "source": [
    "Instructions:\n",
    "\n",
    "* At the start of each exercise, include a markdown cell with a heading that says `### Exercise 1`, etc.\n",
    "* Comment your code.\n",
    "* Answers to questions should be reported in complete sentences with units (where applicable), with calculations printed as a formatted string and longer responses to prompts written in Markdown.\n",
    "* Any time you make a plot, check that it has useful axis labels, title, legend if needed, etc.\n",
    "* You may submit this assignment either as a .ipynb file or PDF.\n",
    "* Do not use generative AI tools for this assignment. Refer to the intro notebook, previous assignments, Python documentation (or other guides), ask classmates for help, or contact me if you're stuck.\n",
    "* **If you refer to online resources, please identify them in your comments/writing.**"
   ]
  },
  {
   "cell_type": "markdown",
   "id": "3c005859-6fbf-40af-9a20-e84f57e5815b",
   "metadata": {},
   "source": [
    "Exercises:\n",
    "\n",
    "1. Load the Newport, RI tide gauge record `h253.csv` using pandas. As shown in the intro notebook, label the columns, remove the fill values, and calculate the datetime index. Make a plot of the timeseries and use the `.describe()` function to display the summary statistics.\n",
    "   * What is the approximate tidal range suggested by this plot (in meters)?\n",
    "   * What is the approximate difference between the mean sea level and minimum sea level (in meters)? Between the mean and maximum? (You can estimate these.)\n",
    "   * Do you think sea level is normally distributed (symmetric around the mean)?\n",
    "2. Calculate the sea level trend at this tide gauge in mm/year over the full record. (For this you should calculate a time variable in decimal years as shown in the intro notebook and then use the method from assignment 4.) Plot the trend line over the timeseries and print your result as a formatted string.\n",
    "3. Resample the annual maximum sea level recorded for each year and plot the timeseries.\n",
    "4. Calculate the trend in mm/year for the annual maxima. (You can use `np.arange(1930,2026)` as a time variable.) Is it the same as the overall trend? If not, can you think of any possible reasons why not?\n",
    "5. Plot a histogram of the annual maxima and a vertical line at the mean value of the annual maxima. Are these data normally distributed around the mean?\n",
    "6. Sort and rank the return levels and calculate the corresponding return periods as shown in the intro. Use comments to explain how you know the output makes sense at each step. e.g. What is your calculated return period for the lowest extreme value? For the highest?\n",
    "7. Make a scatter plot with *return period* on the x-axis and *return level* on the y-axis. Leave the x-axis scale linear (the default setting) and add grid lines. What is the approximate return level (relative sea level in meters) for a 50-year sea level event according to this plot? (A rough estimate is fine.)\n",
    "8. Make a second version of this scatter plot and change the x-axis format to log scale. What return period timescales seem pretty well constrained by these data? What timescales seem more uncertain? Do you have any other concerns about using this plot to make engineering decisions?\n",
    "9. Imagine that the year is 2120 and we've collected another 95 years of data. We want to get a new estimate of return periods for sea level extremes based just on the new timeseries from 2025-2120. It looks exactly the same as the timeseries from 1930-2025 (uncanny!), except with a constant offset due to sea level rise.\n",
    "   * Say sea level has risen at 3 mm/year over the past 100 years. What is the offset you need to add to your return levels to get the new curve?\n",
    "   * Plot the new values of return level on the same log-scale scatter plot. (Remember to add a legend.)\n",
    "   * What is the new return period for the return level you identified in question 7 (previously a 50-year event)?"
   ]
  }
 ],
 "metadata": {
  "kernelspec": {
   "display_name": "Python 3 (ipykernel)",
   "language": "python",
   "name": "python3"
  },
  "language_info": {
   "codemirror_mode": {
    "name": "ipython",
    "version": 3
   },
   "file_extension": ".py",
   "mimetype": "text/x-python",
   "name": "python",
   "nbconvert_exporter": "python",
   "pygments_lexer": "ipython3",
   "version": "3.13.7"
  }
 },
 "nbformat": 4,
 "nbformat_minor": 5
}
