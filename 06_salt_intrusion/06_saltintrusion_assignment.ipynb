{
 "cells": [
  {
   "cell_type": "markdown",
   "id": "d036cb69-feb9-473c-86eb-0099803fddb5",
   "metadata": {},
   "source": [
    "## EPS/ESE 135: Observing the Ocean\n",
    "### Data Analysis Assignment 6: Salt intrusion in a major river"
   ]
  },
  {
   "cell_type": "markdown",
   "id": "d7f21174-6a94-4a1f-b2d8-36121ca81882",
   "metadata": {},
   "source": [
    "Intro:\n",
    "\n",
    "This assignment doesn't introduce any new Python concepts, so I'll keep the intro short and sweet. In this assignment you will look at practical salinity records from 3 [USGS monitoring sites](https://pubs.usgs.gov/publication/ofr20241076/full) at different bridges along the St. Johns River near Jacksonville, Florida. The three timeseries you'll use are saved in files called `[bridgename]_sal.csv`. I've also uploaded corresponding .txt files that contain metadata and other variables for context, but you don't need to use these for the assignment. The .csv files should be relatively painless to use compared with some of the raw data files you've tackled in recent weeks! You may use the provided salinity variable, which is practical salinity [psu] (no need to do any conversions)."
   ]
  },
  {
   "cell_type": "markdown",
   "id": "7fc29782-b334-4808-bbae-b9fa1164768e",
   "metadata": {},
   "source": [
    "Instructions:\n",
    "\n",
    "* At the start of each exercise, include a markdown cell with a heading that says `### Exercise 1`, etc.\n",
    "* Comment your code.\n",
    "* Answers to questions should be reported in complete sentences with units (where applicable), with calculations printed as a formatted string and longer responses to prompts written in Markdown.\n",
    "* Any time you make a plot, check that it has useful axis labels, title, legend if needed, etc.\n",
    "* You may submit this assignment either as a .ipynb file or PDF.\n",
    "* Do not use generative AI tools for this assignment. Refer to previous assignments, Python documentation (or other guides), ask classmates for help, or contact me if you're stuck.\n",
    "* **If you refer to online resources, please identify them in your comments/writing.**"
   ]
  },
  {
   "cell_type": "markdown",
   "id": "ea8d86ee-2fda-4c06-80fe-da01a99441fc",
   "metadata": {},
   "source": [
    "Exercises:\n",
    "\n",
    "1. What are 2-3 factors *from the ocean side* that might contribute to salt intrusion in a river? What are 2-3 factors *from the land/river side* that might contribute? For each factor/process you identify, over what timescale(s) would you expect this to influence the river?\n",
    "2. According to [St. Johns Riverkeeper](https://sjrr.domains.unf.edu/2-8-salinity/), the river has a gentle slope of 2.2 cm/km and comparatively large tidal range of about 2 m. Ignoring any other relevant processes, how far upstream (in km) could the influence of the tide theoretically reach based on this tidal range and topography?\n",
    "3. Use [Google Earth](http://earth.google.com) to create a map to contextualize the data set. On your map, use the \"Add placemark\" tool to label the Acosta Bridge, Buckman Bridge, and Shands Bridge, and the mouth of the St Johns River near Mayport (you can find these locations using the search bar). Draw a path (using \"Add path or polygon\") *following the river* between each two consecutive sites (i.e. mouth to Acosta, Acosta to Buckman, Buckman to Shands). Add a screenshot of your map to your assignment Jupyter notebook by dragging and dropping it into a markdown cell. (Also please upload the image separately to your Canvas assignment submission just in case.) What is the along-river distance (in km) from each bridge to the river mouth? \n",
    "4. Load the three csv datasets using pandas. Here's an example of the code to load one of the timeseries using the datetime column as the index:\\\n",
    "       `acosta = pd.read_csv('acosta_sal.csv',parse_dates=['datetime'])`\\\n",
    "       `acosta.set_index('datetime',inplace=True)`\\\n",
    "   Plot the three salinity timeseries together on the same axes (be sure to include a legend). Describe what you see in this plot in terms of variability within each record and the relationships between them.\n",
    "5. Calculate the monthly climatology of salinity for each site and plot them together on another axes. Here's a reminder of the code to calculate the mean for each month:\\\n",
    "    `acosta.groupby(acosta.index.month)[\"salinity\"].mean()`\\\n",
    "   What does this plot show?\n",
    "6. What is the time mean salinity at each site? What category does each site fall into according to Figure 2a in the [Li et al. paper](https://doi.org/10.1021/acs.estlett.5c00505) (i.e. on the range from non-tidal to polyhaline)? Consider both the mean value and the variability you can see in your plots -- does your answer vary in time?\n",
    "7. Calculate the linear temporal trend in salinity over the full record for each site. (You can use the same steps as in assignment 5 to calculate decimal years from the datetime index to use in your trend calculation.) How do the trends compare between sites? Does having a smaller linear trend necessarily mean that the impact of increasing salinity is smaller? Why or why not?\n",
    "8. Assume the ocean salinity at the river mouth is a constant 30 psu (probably a conservative estimate). What is the change in salinity per unit distance between (a) mouth to Acosta, (b) Acosta to Buckman, and (c) Buckman to Shands? Estimate each salinity gradient for (1) the overall time mean, (2) the climatological mean of the month with highest salinity at Acosta, and (3) the clim. mean of the month with the lowest salinity. How does this change with distance along the river and with time?\n",
    "9. A [major dredging project](https://www.saj.usace.army.mil/Media/News-Stories/Article/3041195/usace-jaxport-mark-milestone-harbor-deepening-project-complete/) was completed between 2018 and 2022. This project deepened the first 20km of the river (from the mouth towards Acosta Bridge), leading to concerns that it could allow more saline water to reach further upriver. From the data that you have, do you think these concerns could be correct? What additional types of data (in addition to longer salinity records) would be useful to answer this question with greater confidence?\n",
    "10. Reflecting back on your answer to question 1, which process/timescale do you think is most significant at Acosta? Which do you think is most significant at Shands?"
   ]
  }
 ],
 "metadata": {
  "kernelspec": {
   "display_name": "Python 3 (ipykernel)",
   "language": "python",
   "name": "python3"
  },
  "language_info": {
   "codemirror_mode": {
    "name": "ipython",
    "version": 3
   },
   "file_extension": ".py",
   "mimetype": "text/x-python",
   "name": "python",
   "nbconvert_exporter": "python",
   "pygments_lexer": "ipython3",
   "version": "3.13.7"
  }
 },
 "nbformat": 4,
 "nbformat_minor": 5
}
