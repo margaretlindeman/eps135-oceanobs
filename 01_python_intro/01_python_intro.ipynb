{
 "cells": [
  {
   "cell_type": "markdown",
   "id": "3e2efa6d-233a-4c44-baaa-35777e33aa02",
   "metadata": {},
   "source": [
    "## EPS/ESE 135: Observing the Ocean\n",
    "### Data Analysis Assignment 1: Intro to plotting data with Python"
   ]
  },
  {
   "cell_type": "markdown",
   "id": "27b96d10-a2b2-484b-b986-cbeb42b170e4",
   "metadata": {},
   "source": [
    "Throughout the semester, you will learn about many different types of oceanographic data, and your final project will involve working with a group to analyze and present an oceanographic data set. This assignment is your first opportunity to practice manipulating and visualizing oceanographic data using Python."
   ]
  },
  {
   "cell_type": "markdown",
   "id": "ff9a4d2c-e36c-4709-be03-f18b97ee2139",
   "metadata": {},
   "source": [
    "#### Working with Jupyter notebooks"
   ]
  },
  {
   "cell_type": "markdown",
   "id": "4113076f-549e-4f7b-abf2-450b935223b7",
   "metadata": {},
   "source": [
    "This is a Jupyter Notebook, a Python IDE (integrated development environment) that is based around \"cells,\" which can contain snippets of code or text. Jupyter notebooks are a versatile tool that can be useful for learning how code works, exploring a data set, or describing analysis steps and results using these integrated markdown text cells...which also makes them good for tutorials.\n",
    "\n",
    "You should be able to download a copy of this file (`01_python_intro.ipynb`) and run it on your own machine to replicate and build on the results shown."
   ]
  },
  {
   "cell_type": "markdown",
   "id": "570d73c3-dac7-4f2c-a05a-dc9198875970",
   "metadata": {},
   "source": [
    "There are a few ways to create new cells, including by clicking the + sign at the top of the notebook, or by using one of the + icons inside the active cell to duplicate the current cell or create a new one above or below.\n",
    "\n",
    "When you create a new cell, make sure that Jupyter interprets it correctly by selecting either \"Markdown\" (rich text), \"raw\" (plain text), or \"code\" from the dropdown menu at the top. Then you can execute the cell, which will format the text or run the code, by clicking the single forward arrow at the top or by pressing command + enter (on a Mac).\n",
    "\n",
    "There are many online resources with more explanation, keyboard shortcuts, Markdown tips, etc...here is one [Jupyter tutorial](https://www.dataquest.io/blog/jupyter-notebook-tutorial/) to get you started if you're looking for more information."
   ]
  },
  {
   "cell_type": "markdown",
   "id": "f7276cdd-d325-4677-9e37-69fb0d479f9d",
   "metadata": {},
   "source": [
    "#### The kernel"
   ]
  },
  {
   "cell_type": "markdown",
   "id": "61f4aac8-05c4-4cf0-8bf2-d634ca672343",
   "metadata": {},
   "source": [
    "When you run Python code in a Jupyter notebook it creates a \"kernel,\" which is basically a contained computational environment for your calculations. Because Python is modular, the first thing you have to do is import the libraries that you will call in your code. Those libraries need to exist in the Python environment you are working with (e.g. our `eps135` environment) so that you can import them.\n",
    "\n",
    "When you create or manipulate variables these are also stored in the kernel until it is reset. You can restart the kernel using the _Kernel_ menu or by clicking on the circular arrow at the top of the notebook. If you do this (or if you close and reopen the file), you will need to rerun all the code, including the first step of importing your code libraries."
   ]
  },
  {
   "cell_type": "markdown",
   "id": "ac081214-c93e-4da8-8ae8-dc66332a4501",
   "metadata": {},
   "source": [
    "#### Importing Python packages"
   ]
  },
  {
   "cell_type": "code",
   "execution_count": null,
   "id": "f32d9cd1-c855-4f16-a20c-8dbb7f065f19",
   "metadata": {},
   "outputs": [],
   "source": [
    "import numpy as np\n",
    "import pandas as pd\n",
    "import matplotlib.pyplot as plt\n",
    "\n",
    "from datetime import datetime, timedelta"
   ]
  },
  {
   "cell_type": "markdown",
   "id": "0725a717-359b-49ff-bf5d-353949655340",
   "metadata": {},
   "source": [
    "By using the `import ... as` syntax, we've created an alias for each of these packages. There's nothing stopping you from calling them something else, but these are incredibly commonly used, and it will make it much easier to share code if you stick to these conventions."
   ]
  },
  {
   "cell_type": "markdown",
   "id": "97e00727-4441-407c-b051-3553a8369027",
   "metadata": {},
   "source": [
    "#### Basic calculations"
   ]
  },
  {
   "cell_type": "markdown",
   "id": "d3e9a455-48fc-4d3b-b74b-c6087fdb365d",
   "metadata": {},
   "source": [
    "For starters, you can use Python as an overpowered calculator. Basic mathematical operations are built in."
   ]
  },
  {
   "cell_type": "code",
   "execution_count": null,
   "id": "876154c5-8f0e-411a-b2f2-ff353e6438de",
   "metadata": {},
   "outputs": [],
   "source": [
    "12 * 87 + 22 / 7"
   ]
  },
  {
   "cell_type": "code",
   "execution_count": null,
   "id": "56de6e07-7e4a-4ca5-ba5c-31d77e4b5bef",
   "metadata": {},
   "outputs": [],
   "source": [
    "10 ** 2 #you can also add in-line comments like this"
   ]
  },
  {
   "cell_type": "markdown",
   "id": "9da960f2-d084-4138-a4f3-6226083d285a",
   "metadata": {},
   "source": [
    "This starts to get more useful when you save variables. We will create a simple numpy array from a list of integers --- to learn more about numpy, check out this [numpy primer from Project Pythia](https://foundations.projectpythia.org/core/numpy/numpy-basics/)."
   ]
  },
  {
   "cell_type": "code",
   "execution_count": null,
   "id": "65a88739-c234-40f6-8bda-f171315e2723",
   "metadata": {},
   "outputs": [],
   "source": [
    "a = np.array([12, 17, 25, 20, 19, 20, 16, 15, 21, 22]) # creates a numpy array\n",
    "print(a) # displays the value of variable a"
   ]
  },
  {
   "cell_type": "markdown",
   "id": "f5b72c6a-98e0-4b3c-82ef-893b703390df",
   "metadata": {},
   "source": [
    "Now variable `a` is stored in the kernel and can be manipulated."
   ]
  },
  {
   "cell_type": "code",
   "execution_count": null,
   "id": "dc7bb747-8613-4ce6-a2fa-f214d81f13ed",
   "metadata": {},
   "outputs": [],
   "source": [
    "# Basic mathematical operations:\n",
    "print(a*2)\n",
    "\n",
    "# Statistical calculations:\n",
    "print(np.min(a)) # minimum value\n",
    "print(np.mean(a)) # mean value\n",
    "print(np.std(a)) # standard deviation"
   ]
  },
  {
   "cell_type": "markdown",
   "id": "4b7930c6-d30d-4a04-bd51-bad8afb9082e",
   "metadata": {},
   "source": [
    "If the values in `a` are temperatures in degrees Celsius, we can define a function that will convert these to Fahrenheit. (You don't need to define a function to do a calculation once, but if you plan to do it many times, this can streamline your code and help avoid errors.)"
   ]
  },
  {
   "cell_type": "code",
   "execution_count": null,
   "id": "42566bec-4e15-4db5-91c2-719db12f021a",
   "metadata": {},
   "outputs": [],
   "source": [
    "# this is the syntax to define a function\n",
    "def c_to_f(temp_c):\n",
    "    temp_f = temp_c * 9/5 + 32\n",
    "    return temp_f\n",
    "\n",
    "b = c_to_f(a)\n",
    "print(b)"
   ]
  },
  {
   "cell_type": "markdown",
   "id": "23a8c0f0-3be1-4575-9481-9e2b17e209a4",
   "metadata": {},
   "source": [
    "### Please install Python on your laptop and run cells up to this point before class on Thursday, Sept 11."
   ]
  },
  {
   "cell_type": "markdown",
   "id": "a360068d-2672-4f89-b3cb-9bf373a4b311",
   "metadata": {},
   "source": [
    "Okay, your turn:\n",
    "__Create a new code cell below. Define a function called `f_to_c` that takes the temperature in Fahrenheit as its input and returns the Celsius temperature. Test your function by using the variable `b` as the input. You may call the output `c` or pick a more creative variable name. Verify that your function works as expected by comparing the output to our initial array, `a`.__"
   ]
  },
  {
   "cell_type": "code",
   "execution_count": null,
   "id": "0a2ca573-d324-4bc7-8f2a-d3571748ed7e",
   "metadata": {},
   "outputs": [],
   "source": []
  },
  {
   "cell_type": "markdown",
   "id": "aa2e799e-60f6-48d8-ac42-e850b090e509",
   "metadata": {},
   "source": [
    "#### Plotting data"
   ]
  },
  {
   "cell_type": "markdown",
   "id": "487df955-0511-409f-a884-5483be1bd0f3",
   "metadata": {},
   "source": [
    "[Matplotlib](https://matplotlib.org/) is a powerful tool for visualizing data with Python. It is also quite well-documented and there are many helpful examples on their website. Again, [Project Pythia's tutorial](https://foundations.projectpythia.org/core/matplotlib/matplotlib-basics/) is a great starting point if you'd like to learn more.\n",
    "\n",
    "At its most basic, though, we can create a line plot by calling `plt.plot(___)`, which will be shown inline by Jupyter."
   ]
  },
  {
   "cell_type": "code",
   "execution_count": null,
   "id": "edf3c95f-230c-4801-aa63-32bf81bf2707",
   "metadata": {},
   "outputs": [],
   "source": [
    "plt.plot(a)"
   ]
  },
  {
   "cell_type": "markdown",
   "id": "b8fee7ef-fa12-409b-bd6a-cd2fee3ad1ff",
   "metadata": {},
   "source": [
    "Exciting, but what does it mean?? Let's say these values are the daily high temperatures in Boston over 10 days (maybe in April when the weather is very chaotic). We need to create a time variable to plot along the x-axis, and add axis labels so the viewer knows how to read the plot."
   ]
  },
  {
   "cell_type": "code",
   "execution_count": null,
   "id": "df6935b7-5001-426b-9eeb-4ba588eddc37",
   "metadata": {},
   "outputs": [],
   "source": [
    "# define time variable:\n",
    "time = np.arange(1,11) # this creates an array of integers from 1 to 10\n",
    "\n",
    "# plot data:\n",
    "plt.plot(time, a) # plots time on the x axis and a (temp) on the y axis\n",
    "\n",
    "# add axis labels: \n",
    "plt.xlabel('day')\n",
    "plt.ylabel('daily high temperature [deg C]')"
   ]
  },
  {
   "cell_type": "markdown",
   "id": "b096362b-e1e1-4415-8267-36e9d0efbb99",
   "metadata": {},
   "source": [
    "There are lots of other choices you can make in creating your plots once you've covered these basics, such as changing colors, adding markers, grid lines, etc. which are covered in the tutorial and documentation linked above."
   ]
  },
  {
   "cell_type": "code",
   "execution_count": null,
   "id": "b39d90d7-b181-468f-a39d-0533b53723ea",
   "metadata": {},
   "outputs": [],
   "source": [
    "# plot data:\n",
    "# the additional arguments specify line color, add a circle marker,\n",
    "# and tell matplotlib what label to give this line in the legend\n",
    "plt.plot(time, a, color='green', marker='o',label='daily high')\n",
    "\n",
    "# plot a horizontal line at the mean value:\n",
    "plt.axhline(np.mean(a), color='orange', label='mean')\n",
    "\n",
    "# add axis labels: \n",
    "plt.xlabel('day')\n",
    "plt.ylabel('daily high temperature [deg C]')\n",
    "\n",
    "# add grid lines:\n",
    "# this function doesn't need arguments, but we still need to give it\n",
    "# the empty parentheses\n",
    "plt.grid() \n",
    "\n",
    "# add legend:\n",
    "# the labels we specified earlier will show up in the legend and it \n",
    "# will automatically try to put it somewhere on the axis where it's not\n",
    "# covering up our data\n",
    "plt.legend()"
   ]
  },
  {
   "cell_type": "markdown",
   "id": "2545fd3e-4a77-4c96-ac5f-f73b93117a2f",
   "metadata": {},
   "source": [
    "#### Loading and plotting timeseries data"
   ]
  },
  {
   "cell_type": "markdown",
   "id": "90c11ebe-b130-474a-aa2b-9aa3240653bd",
   "metadata": {},
   "source": [
    "Now we can try to visualize some actual oceanographic data. This data set is longer than 10 data points, so we'll read it in from a csv file. This stands for \"comma separated values,\" and if you take a look at `timeseries.csv` in a text editor, you will see why. "
   ]
  },
  {
   "cell_type": "code",
   "execution_count": null,
   "id": "9d95f9ee-9745-493e-96bb-64726b8f0666",
   "metadata": {},
   "outputs": [],
   "source": [
    "cf3 = pd.read_csv('timeseries.csv')\n",
    "cf3"
   ]
  },
  {
   "cell_type": "markdown",
   "id": "89bc8701-4cb2-4fd7-8156-7279bf98716d",
   "metadata": {},
   "source": [
    "Saving dates and times can be non-trivial, as there are so many ways to format them. In this case, the time variable is in units of \"days since January 1, 0000,\" so the first step will be to redefine the time variable to a data type called \"datetime\" which works much better in Python. "
   ]
  },
  {
   "cell_type": "code",
   "execution_count": 2,
   "id": "b452834a-d5b5-482b-8014-a6f349599310",
   "metadata": {},
   "outputs": [],
   "source": [
    "# in this cell we define two functions that will do this \n",
    "def matlab_datenum_to_datetime(dn):\n",
    "    \"\"\"\n",
    "    Convert a single MATLAB datenum (float) to Python datetime.\n",
    "    \"\"\"\n",
    "    return datetime.fromordinal(int(dn)) + timedelta(days=dn % 1) - timedelta(days=366)\n",
    "\n",
    "def convert_series(dn_series):\n",
    "    \"\"\"\n",
    "    Convert a Pandas Series of MATLAB datenum values to datetime.\n",
    "    \"\"\"\n",
    "    return dn_series.apply(matlab_datenum_to_datetime)"
   ]
  },
  {
   "cell_type": "code",
   "execution_count": null,
   "id": "009408de-0536-4342-8103-ab10b6ee217b",
   "metadata": {},
   "outputs": [],
   "source": [
    "plt.plot(cf3.time,cf3.temp)\n",
    "plt.ylabel('temperature [deg C]')"
   ]
  },
  {
   "cell_type": "code",
   "execution_count": null,
   "id": "5436b061-a1f6-4ee9-a18f-3f51923e9289",
   "metadata": {},
   "outputs": [],
   "source": [
    "plt.plot(cf3.time,cf3.pres)"
   ]
  },
  {
   "cell_type": "code",
   "execution_count": null,
   "id": "176907d3-c913-4fb6-8aa2-2d6870174872",
   "metadata": {},
   "outputs": [],
   "source": [
    "plt.plot(cf3.time[:96*30],cf3.pres[:96*30])"
   ]
  },
  {
   "cell_type": "markdown",
   "id": "c52f6d94-3649-49b9-ae9d-05348fc41e0a",
   "metadata": {},
   "source": [
    "#### Loading and plotting profile data"
   ]
  },
  {
   "cell_type": "code",
   "execution_count": null,
   "id": "d4ef2a5a-a149-4881-b4a1-6b6fa582c2b6",
   "metadata": {},
   "outputs": [],
   "source": [
    "ctd = pd.read_csv('ctd_raw.csv')\n",
    "ctd"
   ]
  },
  {
   "cell_type": "code",
   "execution_count": null,
   "id": "236011b3-f62c-41e0-a062-3c5abf46fcfe",
   "metadata": {},
   "outputs": [],
   "source": [
    "fig,ax = plt.subplots(1,2)\n",
    "ax[0].plot(ctd.temp,ctd.pres)\n",
    "ax[0].set_ylim([500,-5])\n",
    "\n",
    "ax[1].plot(ctd.sal,ctd.pres)\n",
    "ax[1].set_ylim([500,-5])"
   ]
  }
 ],
 "metadata": {
  "kernelspec": {
   "display_name": "Python 3 (ipykernel)",
   "language": "python",
   "name": "python3"
  },
  "language_info": {
   "codemirror_mode": {
    "name": "ipython",
    "version": 3
   },
   "file_extension": ".py",
   "mimetype": "text/x-python",
   "name": "python",
   "nbconvert_exporter": "python",
   "pygments_lexer": "ipython3",
   "version": "3.13.7"
  }
 },
 "nbformat": 4,
 "nbformat_minor": 5
}
