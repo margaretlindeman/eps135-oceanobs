{
 "cells": [
  {
   "cell_type": "markdown",
   "id": "3e2efa6d-233a-4c44-baaa-35777e33aa02",
   "metadata": {},
   "source": [
    "## EPS/ESE 135: Observing the Ocean\n",
    "### Data Analysis Assignment 1: Intro to plotting data with Python"
   ]
  },
  {
   "cell_type": "markdown",
   "id": "33d39ba0-c299-40a6-8bb8-9f97560503ae",
   "metadata": {},
   "source": [
    "### Background"
   ]
  },
  {
   "cell_type": "markdown",
   "id": "27b96d10-a2b2-484b-b986-cbeb42b170e4",
   "metadata": {},
   "source": [
    "Throughout the semester, you will learn about many different types of oceanographic data, and your final project will involve working with a group to analyze and present an oceanographic data set. This assignment is your first opportunity to practice manipulating and visualizing oceanographic data using Python."
   ]
  },
  {
   "cell_type": "markdown",
   "id": "ff9a4d2c-e36c-4709-be03-f18b97ee2139",
   "metadata": {},
   "source": [
    "#### Working with Jupyter notebooks"
   ]
  },
  {
   "cell_type": "markdown",
   "id": "4113076f-549e-4f7b-abf2-450b935223b7",
   "metadata": {},
   "source": [
    "This is a Jupyter Notebook, a Python IDE (integrated development environment) that is based around \"cells,\" which can contain snippets of code or text. Jupyter notebooks are a versatile tool that can be useful for learning how code works, exploring a data set, or describing analysis steps and results using these integrated markdown text cells...which also makes them good for tutorials.\n",
    "\n",
    "You should be able to download a copy of this file (`01_python_intro.ipynb`) and run it on your own machine to replicate and build on the results shown."
   ]
  },
  {
   "cell_type": "markdown",
   "id": "570d73c3-dac7-4f2c-a05a-dc9198875970",
   "metadata": {},
   "source": [
    "There are a few ways to create new cells, including by clicking the + sign at the top of the notebook, or by using one of the + icons inside the active cell to duplicate the current cell or create a new one above or below.\n",
    "\n",
    "When you create a new cell, make sure that Jupyter interprets it correctly by selecting either \"Markdown\" (rich text), \"raw\" (plain text), or \"code\" from the dropdown menu at the top. Then you can execute the cell, which will format the text or run the code, by clicking the single forward arrow at the top or by pressing command + enter (on a Mac).\n",
    "\n",
    "There are many online resources with more explanation, keyboard shortcuts, Markdown tips, etc...here is the [Project Pythia Jupyter tutorial](https://foundations.projectpythia.org/foundations/getting-started-jupyter/) to get you started if you're looking for more information."
   ]
  },
  {
   "cell_type": "markdown",
   "id": "f7276cdd-d325-4677-9e37-69fb0d479f9d",
   "metadata": {},
   "source": [
    "#### The kernel"
   ]
  },
  {
   "cell_type": "markdown",
   "id": "61f4aac8-05c4-4cf0-8bf2-d634ca672343",
   "metadata": {},
   "source": [
    "When you run Python code in a Jupyter notebook it creates a \"kernel,\" which is basically a contained computational environment for your calculations. Because Python is modular, the first thing you have to do is import the libraries that you will call in your code. Those libraries need to exist in the Python environment you are working with (e.g. our `eps135` environment) so that you can import them.\n",
    "\n",
    "When you create or manipulate variables these are also stored in the kernel until it is reset. You can restart the kernel using the _Kernel_ menu or by clicking on the circular arrow at the top of the notebook. If you do this (or if you close and reopen the file), you will need to rerun all the code, including the first step of importing your code libraries."
   ]
  },
  {
   "cell_type": "markdown",
   "id": "6c618270-3e77-4548-bbce-2d12356eefcf",
   "metadata": {},
   "source": [
    "### Running Python code in a Jupyter notebook"
   ]
  },
  {
   "cell_type": "markdown",
   "id": "2ef8603d-b6dd-4d07-acd0-5ffa7b6d0cde",
   "metadata": {},
   "source": [
    "Please run each cell containing Python code by clicking the single forward arrow at the top of the notebook or by pressing shift + enter (on a Mac). Make sure that the output (if any) makes sense before moving on to the next cell. (Not all code will generate output.)"
   ]
  },
  {
   "cell_type": "markdown",
   "id": "ac081214-c93e-4da8-8ae8-dc66332a4501",
   "metadata": {},
   "source": [
    "#### Importing Python packages"
   ]
  },
  {
   "cell_type": "code",
   "execution_count": null,
   "id": "f32d9cd1-c855-4f16-a20c-8dbb7f065f19",
   "metadata": {},
   "outputs": [],
   "source": [
    "import numpy as np\n",
    "import pandas as pd\n",
    "import matplotlib.pyplot as plt\n",
    "\n",
    "from datetime import datetime, timedelta"
   ]
  },
  {
   "cell_type": "markdown",
   "id": "0725a717-359b-49ff-bf5d-353949655340",
   "metadata": {},
   "source": [
    "By using the `import ... as` syntax, we've created an alias for each of these packages. There's nothing stopping you from calling them something else, but these are incredibly commonly used, and it will make it much easier to share code if you stick to these conventions."
   ]
  },
  {
   "cell_type": "markdown",
   "id": "97e00727-4441-407c-b051-3553a8369027",
   "metadata": {},
   "source": [
    "#### Basic calculations"
   ]
  },
  {
   "cell_type": "markdown",
   "id": "d3e9a455-48fc-4d3b-b74b-c6087fdb365d",
   "metadata": {},
   "source": [
    "For starters, you can use Python as an overpowered calculator. Basic mathematical operations are built in."
   ]
  },
  {
   "cell_type": "code",
   "execution_count": null,
   "id": "876154c5-8f0e-411a-b2f2-ff353e6438de",
   "metadata": {},
   "outputs": [],
   "source": [
    "12 * 87 + 22 / 7"
   ]
  },
  {
   "cell_type": "code",
   "execution_count": null,
   "id": "56de6e07-7e4a-4ca5-ba5c-31d77e4b5bef",
   "metadata": {},
   "outputs": [],
   "source": [
    "10 ** 2 #you can also add in-line comments like this"
   ]
  },
  {
   "cell_type": "markdown",
   "id": "9da960f2-d084-4138-a4f3-6226083d285a",
   "metadata": {},
   "source": [
    "This starts to get more useful when you save variables. We will create a simple numpy array from a list of integers --- to learn more about numpy, check out this [numpy primer from Project Pythia](https://foundations.projectpythia.org/core/numpy/numpy-basics/)."
   ]
  },
  {
   "cell_type": "code",
   "execution_count": null,
   "id": "65a88739-c234-40f6-8bda-f171315e2723",
   "metadata": {},
   "outputs": [],
   "source": [
    "a = np.array([12, 17, 25, 20, 19, 20, 16, 15, 21, 22]) # creates a numpy array\n",
    "print(a) # displays the value of variable a"
   ]
  },
  {
   "cell_type": "markdown",
   "id": "f5b72c6a-98e0-4b3c-82ef-893b703390df",
   "metadata": {},
   "source": [
    "Now variable `a` is stored in the kernel. If you want to refer only to certain values of `a`, you can index into the array using square brackets. In Python's indexing system, the first value is 0, and the colon indicates \"through,\" so `a[0:3]` means zero through 3 and returns the first 3 values of the array. You can also skip the zero and simply index `a[:3]` for the same result.\n",
    "\n",
    "To get the last `n` values, you can do negative indexing, i.e. `a[-n:]`:"
   ]
  },
  {
   "cell_type": "code",
   "execution_count": null,
   "id": "a24ae11c-13a6-43c3-81dd-c2c63c5e17b6",
   "metadata": {},
   "outputs": [],
   "source": [
    "print(a[0:3]) # selects the first 3 values of a\n",
    "print(a[:3]) # also selects the first 3 values of a\n",
    "print(a[-4:]) # selects the last 4 values of a"
   ]
  },
  {
   "cell_type": "markdown",
   "id": "00aac8d5-e5e3-41e0-8c03-5ff2a9a55821",
   "metadata": {},
   "source": [
    "Now we can do all kinds of manipulations and calculations with the saved variable."
   ]
  },
  {
   "cell_type": "code",
   "execution_count": null,
   "id": "dc7bb747-8613-4ce6-a2fa-f214d81f13ed",
   "metadata": {},
   "outputs": [],
   "source": [
    "# Basic mathematical operations:\n",
    "print(a[2:6]*2) # take a subset of values of a and multiply them by 2\n",
    "\n",
    "# Statistical calculations:\n",
    "print(np.min(a)) # minimum value\n",
    "print(np.mean(a)) # mean value\n",
    "print(np.std(a)) # standard deviation"
   ]
  },
  {
   "cell_type": "markdown",
   "id": "d2e389aa-176c-4983-8838-3df855ad074c",
   "metadata": {},
   "source": [
    "This list of values is slightly confusing. You can include text strings in your `print` commands within single or double quotes that will make the outputs more intelligible. When you are working with text strings rather than numbers, the `+` sign concatenates strings together.\n",
    "\n",
    "Let's say that the values in `a` are temperatures in degrees Celsius. It's important always to be explicit about the units of values that you are reporting."
   ]
  },
  {
   "cell_type": "code",
   "execution_count": null,
   "id": "02309e9f-30f4-4537-98d9-bdeb099c1d9f",
   "metadata": {},
   "outputs": [],
   "source": [
    "# save the mean value of a as new variable:\n",
    "a_mean = np.mean(a)\n",
    "\n",
    "# convert a_mean from a numeric variable to a string, which python will interpret as text:\n",
    "a_mean_string = str(a_mean)\n",
    "\n",
    "# use + signs to combine strings into an easily readable output:\n",
    "print('The mean temperature is '+a_mean_string+' degrees C.')"
   ]
  },
  {
   "cell_type": "markdown",
   "id": "4b7930c6-d30d-4a04-bd51-bad8afb9082e",
   "metadata": {},
   "source": [
    "We can define a function that will convert the Celsius temperatures in `a` to Fahrenheit. (You don't need to define a function to do a calculation once, but if you plan to do it many times, this can streamline your code and help avoid errors.)"
   ]
  },
  {
   "cell_type": "code",
   "execution_count": null,
   "id": "42566bec-4e15-4db5-91c2-719db12f021a",
   "metadata": {},
   "outputs": [],
   "source": [
    "# this is the syntax to define a function:\n",
    "def c_to_f(temp_c): # function name: c_to_f; input argument: temp_c\n",
    "    temp_f = temp_c * 9/5 + 32 # perform calculation on input variable temp_c and save result as temp_f\n",
    "    return temp_f # return output variable temp_f"
   ]
  },
  {
   "cell_type": "markdown",
   "id": "38812a15-730c-4424-8df8-4600522d85d3",
   "metadata": {},
   "source": [
    "Running the above cell will save the new function to the kernel but won't give any output. However, now that the function has been created, we can try it on our variable `a`:"
   ]
  },
  {
   "cell_type": "code",
   "execution_count": null,
   "id": "e3489f30-bed4-4ffd-96d3-c110cfcc5cc2",
   "metadata": {},
   "outputs": [],
   "source": [
    "temp_f = c_to_f(a)\n",
    "print(temp_f)"
   ]
  },
  {
   "cell_type": "markdown",
   "id": "23a8c0f0-3be1-4575-9481-9e2b17e209a4",
   "metadata": {},
   "source": [
    "### Please install Python on your laptop and run cells up to this point before class on Thursday, Sept 11."
   ]
  },
  {
   "cell_type": "markdown",
   "id": "dafd9415-f07f-408a-84a4-6c82e5872f65",
   "metadata": {},
   "source": [
    "#### Exercise 1:\n",
    "As you are doing these exercises, remember to comment your code inline throughout using the `#` symbol.\n",
    "\n",
    "1. Calculate the mean of the variable `temp_f` and save this as a new variable. Give it a simple, descriptive name such as `temp_f_mean`.\n",
    "2. Use `print` to display the output as a sentence.\n",
    "3. Following the above example, define a function called `f_to_c` that takes the temperature in Fahrenheit as its input and returns the Celsius temperature.\n",
    "4. To test that your function works as expected, use your new function to convert `temp_f_mean` into degrees Celsius. `print` the output and compare it to the result that we got from computing the mean of the original variable `a`. Did you get the result you expect?"
   ]
  },
  {
   "cell_type": "code",
   "execution_count": null,
   "id": "0a2ca573-d324-4bc7-8f2a-d3571748ed7e",
   "metadata": {},
   "outputs": [],
   "source": [
    "# use this empty code cell for exercise 1. You may create additional cells!"
   ]
  },
  {
   "cell_type": "raw",
   "id": "7e58f58c-0c8a-4a18-8817-6ab6b5104d91",
   "metadata": {},
   "source": [
    "[Answer the question in step 4 in this raw cell.]"
   ]
  },
  {
   "cell_type": "markdown",
   "id": "aa2e799e-60f6-48d8-ac42-e850b090e509",
   "metadata": {},
   "source": [
    "#### Plotting data"
   ]
  },
  {
   "cell_type": "markdown",
   "id": "487df955-0511-409f-a884-5483be1bd0f3",
   "metadata": {},
   "source": [
    "[Matplotlib](https://matplotlib.org/) is a powerful tool for visualizing data with Python. It is also quite well-documented and there are many helpful examples on their website. Again, [Project Pythia's tutorial](https://foundations.projectpythia.org/core/matplotlib/matplotlib-basics/) is a great starting point if you'd like to learn more.\n",
    "\n",
    "At its most basic, though, we can create a line plot by calling [plt.plot(___)](https://matplotlib.org/stable/api/_as_gen/matplotlib.pyplot.plot.html), which will be shown inline by Jupyter."
   ]
  },
  {
   "cell_type": "code",
   "execution_count": null,
   "id": "edf3c95f-230c-4801-aa63-32bf81bf2707",
   "metadata": {},
   "outputs": [],
   "source": [
    "plt.plot(a)"
   ]
  },
  {
   "cell_type": "markdown",
   "id": "b8fee7ef-fa12-409b-bd6a-cd2fee3ad1ff",
   "metadata": {},
   "source": [
    "Now we can see what the data look like, but if we want to be able to interpret them, we need to add some context to the plot. Let's say these values are the daily high temperatures in Boston over 10 days (maybe in April when the weather is very chaotic). We need to create a time variable to plot along the x-axis, and add axis labels so the viewer knows how to read the plot."
   ]
  },
  {
   "cell_type": "code",
   "execution_count": null,
   "id": "df6935b7-5001-426b-9eeb-4ba588eddc37",
   "metadata": {},
   "outputs": [],
   "source": [
    "# define time variable:\n",
    "time = np.arange(1,11) # this creates an array of integers from 1 to 10\n",
    "\n",
    "# plot data:\n",
    "plt.plot(time, a) # plots time on the x axis and a (temp) on the y axis\n",
    "\n",
    "# add axis labels: \n",
    "plt.xlabel('day')\n",
    "plt.ylabel('temperature [deg C]')\n",
    "\n",
    "# add plot title -- you should do this as you work through exercises, but if you are including plots\n",
    "# in written work like a lab report or manuscript, you should remove the title and put that information\n",
    "# in the figure caption\n",
    "plt.title('Daily high temperature')"
   ]
  },
  {
   "cell_type": "markdown",
   "id": "b096362b-e1e1-4415-8267-36e9d0efbb99",
   "metadata": {},
   "source": [
    "There are lots of other choices you can make in creating your plots once you've covered these basics, such as changing colors, adding markers, grid lines, etc. which are covered in the tutorial and documentation linked above. You can also plot multiple data sets or variables on the same axes by using the same plot command, or other matplotlib functions like [plt.axhline(___)](https://matplotlib.org/stable/api/_as_gen/matplotlib.pyplot.axhline.html) which will plot a horizontal line at a chosen value."
   ]
  },
  {
   "cell_type": "code",
   "execution_count": null,
   "id": "b39d90d7-b181-468f-a39d-0533b53723ea",
   "metadata": {},
   "outputs": [],
   "source": [
    "# plot data:\n",
    "# the additional arguments specify line color, add a circle marker,\n",
    "# and tell matplotlib what label to give this line in the legend\n",
    "plt.plot(time, a, color='green', marker='o',label='daily high')\n",
    "\n",
    "# plot a horizontal line at the mean value:\n",
    "plt.axhline(a_mean, color='orange', label='mean')\n",
    "\n",
    "# add axis labels and title: \n",
    "plt.xlabel('day')\n",
    "plt.ylabel('temperature [deg C]')\n",
    "plt.title('Daily high temperature')\n",
    "\n",
    "# add grid lines:\n",
    "# this function doesn't need arguments, but we still need to give it\n",
    "# the empty parentheses\n",
    "plt.grid() \n",
    "\n",
    "# add legend:\n",
    "# the labels we specified earlier will show up in the legend and it \n",
    "# will automatically try to put it somewhere on the axis where it's not\n",
    "# covering up our data\n",
    "plt.legend()"
   ]
  },
  {
   "cell_type": "markdown",
   "id": "2545fd3e-4a77-4c96-ac5f-f73b93117a2f",
   "metadata": {},
   "source": [
    "#### Loading and plotting timeseries data with pandas"
   ]
  },
  {
   "cell_type": "markdown",
   "id": "90c11ebe-b130-474a-aa2b-9aa3240653bd",
   "metadata": {},
   "source": [
    "Now we can try to visualize some actual oceanographic data. This data set is longer than 10 data points, so we'll read it in from a csv file. This stands for \"comma separated values,\" and if you take a look at `timeseries.csv` in a text editor, you will see why. "
   ]
  },
  {
   "cell_type": "code",
   "execution_count": null,
   "id": "9d95f9ee-9745-493e-96bb-64726b8f0666",
   "metadata": {},
   "outputs": [],
   "source": [
    "cf3 = pd.read_csv('timeseries.csv')\n",
    "cf3"
   ]
  },
  {
   "cell_type": "markdown",
   "id": "89bc8701-4cb2-4fd7-8156-7279bf98716d",
   "metadata": {},
   "source": [
    "Working with dates and times can be non-trivial, as there are so many ways to format them. In this case, the time variable is in units of \"days since January 1, 0000,\" so the first step will be to redefine the time variable to a data type called \"datetime\" that both pandas and matplotlib can use more sensibly."
   ]
  },
  {
   "cell_type": "code",
   "execution_count": null,
   "id": "b452834a-d5b5-482b-8014-a6f349599310",
   "metadata": {
    "jupyter": {
     "source_hidden": true
    }
   },
   "outputs": [],
   "source": [
    "# in this cell we define a function called convert_series that will do this date format conversion.\n",
    "# full disclosure: I used chatGPT to streamline this function.\n",
    "def matlab_datenum_to_datetime(dn):\n",
    "    \"\"\"\n",
    "    Convert a single MATLAB datenum (float) to Python datetime.\n",
    "    \"\"\"\n",
    "    return datetime.fromordinal(int(dn)) + timedelta(days=dn % 1) - timedelta(days=366)\n",
    "\n",
    "def convert_series(dn_series):\n",
    "    \"\"\"\n",
    "    Convert a Pandas Series of MATLAB datenum values to datetime.\n",
    "    \"\"\"\n",
    "    return dn_series.apply(matlab_datenum_to_datetime)"
   ]
  },
  {
   "cell_type": "code",
   "execution_count": null,
   "id": "89310807-e84b-4703-83e7-8ec1ffc21dc2",
   "metadata": {},
   "outputs": [],
   "source": [
    "# use the newly defined function convert_series to replace the original time variable with datetime\n",
    "\n",
    "cf3.time = convert_series(cf3.time)\n",
    "cf3"
   ]
  },
  {
   "cell_type": "markdown",
   "id": "7a93d277-bc2d-46d6-9749-a267532157c6",
   "metadata": {},
   "source": [
    "Okay, you can see that we now have intelligible timestamps for our data! Pandas has many other powerful options for manipulating data using this time variable as an index, some of which are described in the [Project Pythia pandas tutorial](https://foundations.projectpythia.org/core/pandas/pandas/)."
   ]
  },
  {
   "cell_type": "markdown",
   "id": "4ebaf3f6-849f-4f28-bb72-27482670112b",
   "metadata": {},
   "source": [
    "This data set is a temperature and pressure record from a mooring in the North Atlantic Ocean off the southeast coast of Greenland, which is part of the [OSNAP array](https://www.o-snap.org/). The variables are:\n",
    "* temperature [degrees Celsius]\n",
    "* pressure [dbar (decibars)]"
   ]
  },
  {
   "cell_type": "markdown",
   "id": "2d8d8197-cf14-4cc0-b2ea-68c08716a7ad",
   "metadata": {},
   "source": [
    "#### Exercise 2:\n",
    "__Now you will create some plots of the data in the `cf3` dataframe.__\n",
    "\n",
    "__Plot 1/3:__\n",
    "* Plot temperature (y-axis) versus time (x-axis). Add x- and y-axis labels and a simple title.\n",
    "\n",
    "(Hint: To work with variables in a pandas dataframe, use dot indexing as we did above, e.g.\n",
    "`plt.plot(cf3.time,cf3.temp)`.)"
   ]
  },
  {
   "cell_type": "code",
   "execution_count": null,
   "id": "009408de-0536-4342-8103-ab10b6ee217b",
   "metadata": {
    "scrolled": true
   },
   "outputs": [],
   "source": [
    "# create Plot 1 here"
   ]
  },
  {
   "cell_type": "markdown",
   "id": "17dfa7f5-5cde-418b-bf07-f526a0c02d0c",
   "metadata": {},
   "source": [
    "__Plot 2/3:__ \n",
    "* Calculate the mean pressure value and use `print` to display the value in a complete sentence (including units!).\n",
    "* Plot pressure versus time and add a horizontal line with the mean pressure value to your plot. Use the `label='___'` argument in each plot command.\n",
    "* Add x- and y-axis labels, a legend, and a title."
   ]
  },
  {
   "cell_type": "code",
   "execution_count": null,
   "id": "6f9ef3a1-56fe-44ed-b0f3-b949e2a299e2",
   "metadata": {},
   "outputs": [],
   "source": [
    "# create Plot 2 here"
   ]
  },
  {
   "cell_type": "markdown",
   "id": "dc5b627f-35f1-4d05-8eb3-c16f3afcd5c2",
   "metadata": {},
   "source": [
    "__Plot 3/3:__ \n",
    "\n",
    "Let's look a little more closely at that pressure timeseries to understand the variations around the mean. \n",
    "1. Look back at the converted timestamps above. What is the time interval between consecutive measurements (rounded to the nearest minute...you can ignore the excessive decimal places)? How many measurements are recorded per hour, and how many per day?\n",
    "2. Now plot pressure versus time again, but only for the first 30 days of the time series. To do this, you can index into the time and pressure variables using square brackets as shown in the first section of this notebook, e.g. `cf3.time[:___]`. (It's okay if the x-axis labels are overlapping a little, we'll fix this another time.) Add axis labels and title.\n",
    "3. In one or two sentences, what do you think you might be seeing here?"
   ]
  },
  {
   "cell_type": "raw",
   "id": "8a902586-6619-4815-842a-21d25b2d6334",
   "metadata": {},
   "source": [
    "[Answer the questions in step 1 here.]"
   ]
  },
  {
   "cell_type": "code",
   "execution_count": null,
   "id": "176907d3-c913-4fb6-8aa2-2d6870174872",
   "metadata": {},
   "outputs": [],
   "source": [
    "# create Plot 3 here"
   ]
  },
  {
   "cell_type": "raw",
   "id": "58b54937-6ffc-49bf-9d2e-1df899483a54",
   "metadata": {},
   "source": [
    "[Answer the questions in step 3 here.]"
   ]
  },
  {
   "cell_type": "markdown",
   "id": "c52f6d94-3649-49b9-ae9d-05348fc41e0a",
   "metadata": {},
   "source": [
    "#### Loading and plotting profile data"
   ]
  },
  {
   "cell_type": "markdown",
   "id": "1eed7d9c-9fac-4f9d-9df2-ceb22ed0ba78",
   "metadata": {},
   "source": [
    "In a moored record, we observe how a variable (such as temperature) is changing over time at a fixed location and depth (well, that's the goal, which may not always work exactly as planned...). In that case, time is our independent variable, plotted on the x-axis, and temperature is the dependent variable, plotted on the y-axis."
   ]
  },
  {
   "cell_type": "markdown",
   "id": "ec57eab6-7765-4bda-9bc9-416839028723",
   "metadata": {},
   "source": [
    "In the ocean, however, we also frequently collect profile data by lowering a sensor through the water column and observing how it changes with depth in the ocean. As you have heard, the instrument that we use to do this is called a CTD (conductivity, temperature and depth -- where depth is generally analogous to pressure in the ocean).\n",
    "\n",
    "When plotting a CTD profile, our independent variable is therefore depth (or pressure), and because it is a vertical measurement, we plot the independent variable on the y-axis. This can be confusing at first if you're not used to looking at plots oriented this way, but will become more intuitive."
   ]
  },
  {
   "cell_type": "markdown",
   "id": "aaa62096-7569-48a1-8b19-ce86ac487fe3",
   "metadata": {},
   "source": [
    "I've given you another csv file, this time containing a CTD profile from the southeast Greenland continental shelf. The variables are:\n",
    "* pressure [dbar (decibars)]\n",
    "* temperature [degrees C]\n",
    "* salinity [psu (practical salinity units)]"
   ]
  },
  {
   "cell_type": "code",
   "execution_count": null,
   "id": "d4ef2a5a-a149-4881-b4a1-6b6fa582c2b6",
   "metadata": {},
   "outputs": [],
   "source": [
    "ctd = pd.read_csv('ctd_raw.csv')\n",
    "ctd"
   ]
  },
  {
   "cell_type": "markdown",
   "id": "6b05b916-c294-43c2-a1d8-f79e146dae09",
   "metadata": {},
   "source": [
    "#### Exercise 3:\n",
    "__Plot 1/2:__\n",
    "1. Plot temperature (x-axis) versus pressure (y-axis). Where is the surface (pressure = 0 dbar) in your plot? Where is the ocean floor (highest pressure)? Does this make sense to you?\n",
    "2. Set the y-axis limits for your plot using this command: `plt.ylim(bottomvalue,topvalue)`. Let the bottom y-value be +500 and the top y-value be -5. Add axis labels and a title to your plot.\n",
    "3. Describe how the temperature changes with depth, beginning from the surface. Does anything about this surprise you?"
   ]
  },
  {
   "cell_type": "code",
   "execution_count": null,
   "id": "3f9e80e3-4987-4e90-8c06-f8faff8cecfd",
   "metadata": {},
   "outputs": [],
   "source": [
    "# create Plot 1 here"
   ]
  },
  {
   "cell_type": "raw",
   "id": "23a5101c-441c-4acf-9f51-833522300fb9",
   "metadata": {},
   "source": [
    "[Answer the questions in step 3 here.]"
   ]
  },
  {
   "cell_type": "markdown",
   "id": "1ba3af02-0264-4270-ade7-e5d7087a6546",
   "metadata": {},
   "source": [
    "#### Creating figures with subplots"
   ]
  },
  {
   "cell_type": "markdown",
   "id": "6cbdef25-a721-4103-84ff-7047e5b508a2",
   "metadata": {},
   "source": [
    "Jupyter makes it easy to create basic visualizations as we've done so far with these basic Matplotlib commands, but sometimes you will want more control over different aspects of your plots, which you can do by creating figure and axes \"objects\" with the command `fig,ax = plt.subplots()`. If you leave the parentheses empty, this will simply create one set of axes like our earlier plots but you will be able to use the `ax` handle to manipulate them.\n",
    "\n",
    "One simple but useful thing this allows you to do is create figures with subplots so that you can look at related data side by side, by include values in the parentheses using this syntax `fig,ax = plt.subplots(rows,cols)`.\n",
    "\n",
    "\n",
    "__Plot 2/2:__\n",
    "\n",
    "I have given you the command to generate 1 row of 2 subplots. This creates two \"axes objects\", `ax[0]` and `ax[1]`. I have then showed you how to plot and set the y-axis limits on the lefthand subplot.\n",
    "\n",
    "You might notice these have a subtly different syntax than the `plt.___` commands in some cases, e.g. we used `plt.ylim(___)` before and here we have to use `ax[0].set_ylim(___)`. If you run into errors, this is a good thing to check.\n",
    "\n",
    "1. Finish the temperature profile by setting appropriate y-axis limits and adding axis labels.\n",
    "2. Plot the salinity data in the righthand subplot `ax[1]`, add labels etc.\n",
    "3. Describe how salinity changes with depth. Does anything about this surprise you?"
   ]
  },
  {
   "cell_type": "code",
   "execution_count": null,
   "id": "236011b3-f62c-41e0-a062-3c5abf46fcfe",
   "metadata": {},
   "outputs": [],
   "source": [
    "# create Plot 2 here\n",
    "\n",
    "# create fig and ax objects:\n",
    "fig,ax = plt.subplots(1,2) # plt.subplots(rows,cols)\n",
    "\n",
    "# plot temperature profile on left\n",
    "ax[0].plot(ctd.temp,ctd.pres)\n",
    "#ax[0].set_ylim(...\n",
    "#ax[0].set_xlabel(...\n",
    "\n",
    "# plot salinity profile on right\n",
    "#ax[1].plot(___)"
   ]
  },
  {
   "cell_type": "raw",
   "id": "0a485729-67de-4410-aa6f-e8051d5dee30",
   "metadata": {},
   "source": [
    "[Answer the questions in step 3 here.]"
   ]
  },
  {
   "cell_type": "markdown",
   "id": "e92dcd8d-0d86-4d8b-8701-7e79b8d2c0b7",
   "metadata": {},
   "source": [
    "All done! If you have any questions or feedback, feel free to add more cells after this with your thoughts about what was confusing, what could be improved, or what you'd like to learn more about... :)\n",
    "\n",
    "__Then please print this page as a PDF and submit it on the Canvas assignment by September 16.__"
   ]
  }
 ],
 "metadata": {
  "kernelspec": {
   "display_name": "Python 3 (ipykernel)",
   "language": "python",
   "name": "python3"
  },
  "language_info": {
   "codemirror_mode": {
    "name": "ipython",
    "version": 3
   },
   "file_extension": ".py",
   "mimetype": "text/x-python",
   "name": "python",
   "nbconvert_exporter": "python",
   "pygments_lexer": "ipython3",
   "version": "3.13.7"
  }
 },
 "nbformat": 4,
 "nbformat_minor": 5
}
